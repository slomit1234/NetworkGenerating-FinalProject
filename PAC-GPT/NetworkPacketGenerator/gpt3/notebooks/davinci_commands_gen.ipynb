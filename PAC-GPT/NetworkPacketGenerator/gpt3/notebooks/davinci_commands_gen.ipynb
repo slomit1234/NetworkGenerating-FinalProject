{
 "cells": [
  {
   "cell_type": "code",
   "execution_count": 2,
   "id": "d8ab9384-bfd6-4e54-be3a-3bbb87fc4360",
   "metadata": {},
   "outputs": [],
   "source": [
    "import random\n",
    "import re\n",
    "import pickle\n",
    "\n",
    "import openai\n",
    "\n",
    "from scapy.all import *\n",
    "from scapy.utils import RawPcapReader, wrpcap\n",
    "import scapy.all as scapy\n",
    "\n",
    "from scapy.layers.l2 import Ether\n",
    "from scapy.layers.inet import IP, TCP, ICMP"
   ]
  },
  {
   "cell_type": "code",
   "execution_count": 3,
   "id": "13c8bff7-218b-4916-8e91-663ddedddf8e",
   "metadata": {},
   "outputs": [],
   "source": [
    "packets_per_request = 5"
   ]
  },
  {
   "cell_type": "code",
   "execution_count": 4,
   "id": "46f766e4-a85a-44f8-8d70-d10e4e3794bc",
   "metadata": {},
   "outputs": [],
   "source": [
    "with open(\"../data/text/three_summaries.txt\",\"r\") as f:\n",
    "    packets_summary = f.read().splitlines()"
   ]
  },
  {
   "cell_type": "code",
   "execution_count": 5,
   "id": "d69ba537-d564-4e77-9ff0-371700f15130",
   "metadata": {},
   "outputs": [
    {
     "data": {
      "text/plain": [
       "9999"
      ]
     },
     "execution_count": 5,
     "metadata": {},
     "output_type": "execute_result"
    }
   ],
   "source": [
    "len(packets_summary)"
   ]
  },
  {
   "cell_type": "code",
   "execution_count": 6,
   "id": "78f7dd84-bc5e-430a-b760-bb0cda6bb733",
   "metadata": {},
   "outputs": [
    {
     "ename": "APIRemovedInV1",
     "evalue": "\n\nYou tried to access openai.Engine, but this is no longer supported in openai>=1.0.0 - see the README at https://github.com/openai/openai-python for the API.\n\nYou can run `openai migrate` to automatically upgrade your codebase to use the 1.0.0 interface. \n\nAlternatively, you can pin your installation to the old version, e.g. `pip install openai==0.28`\n\nA detailed migration guide is available here: https://github.com/openai/openai-python/discussions/742\n",
     "output_type": "error",
     "traceback": [
      "\u001b[1;31m---------------------------------------------------------------------------\u001b[0m",
      "\u001b[1;31mAPIRemovedInV1\u001b[0m                            Traceback (most recent call last)",
      "Cell \u001b[1;32mIn[6], line 1\u001b[0m\n\u001b[1;32m----> 1\u001b[0m engines \u001b[38;5;241m=\u001b[39m openai\u001b[38;5;241m.\u001b[39mEngine\u001b[38;5;241m.\u001b[39mlist()\n",
      "File \u001b[1;32m~\\anaconda3\\Lib\\site-packages\\openai\\lib\\_old_api.py:39\u001b[0m, in \u001b[0;36mAPIRemovedInV1Proxy.__call__\u001b[1;34m(self, *_args, **_kwargs)\u001b[0m\n\u001b[0;32m     38\u001b[0m \u001b[38;5;28;01mdef\u001b[39;00m \u001b[38;5;21m__call__\u001b[39m(\u001b[38;5;28mself\u001b[39m, \u001b[38;5;241m*\u001b[39m_args: Any, \u001b[38;5;241m*\u001b[39m\u001b[38;5;241m*\u001b[39m_kwargs: Any) \u001b[38;5;241m-\u001b[39m\u001b[38;5;241m>\u001b[39m Any:\n\u001b[1;32m---> 39\u001b[0m     \u001b[38;5;28;01mraise\u001b[39;00m APIRemovedInV1(symbol\u001b[38;5;241m=\u001b[39m\u001b[38;5;28mself\u001b[39m\u001b[38;5;241m.\u001b[39m_symbol)\n",
      "\u001b[1;31mAPIRemovedInV1\u001b[0m: \n\nYou tried to access openai.Engine, but this is no longer supported in openai>=1.0.0 - see the README at https://github.com/openai/openai-python for the API.\n\nYou can run `openai migrate` to automatically upgrade your codebase to use the 1.0.0 interface. \n\nAlternatively, you can pin your installation to the old version, e.g. `pip install openai==0.28`\n\nA detailed migration guide is available here: https://github.com/openai/openai-python/discussions/742\n"
     ]
    }
   ],
   "source": [
    "engines = openai.Engine.list()\n"
   ]
  },
  {
   "cell_type": "code",
   "execution_count": 6,
   "id": "eb483584-6722-4aa7-ab4e-8a5b1deaf608",
   "metadata": {},
   "outputs": [],
   "source": [
    "responses = pickle.load( open(\"../data/pickle/davinci_pairs2.pkl\", \"rb\" ))\n"
   ]
  },
  {
   "cell_type": "code",
   "execution_count": 7,
   "id": "33c7c10f-5663-46c7-af40-2a31af33e860",
   "metadata": {},
   "outputs": [
    {
     "data": {
      "text/plain": [
       "200"
      ]
     },
     "execution_count": 7,
     "metadata": {},
     "output_type": "execute_result"
    }
   ],
   "source": [
    "len(responses)"
   ]
  },
  {
   "cell_type": "code",
   "execution_count": 8,
   "id": "0f9964e5-74ee-4668-8295-91bd4b9120b2",
   "metadata": {},
   "outputs": [
    {
     "name": "stdout",
     "output_type": "stream",
     "text": [
      "This is a packet summary:\n",
      "192.168.1.194 → 192.168.1.190 ICMP 100 Echo (ping) request id=0x9015, seq=18917\n",
      "This is the python code to generate the packet:\n",
      "scapy.IP(src=\"192.168.1.194\", dst=\"192.168.1.190\")/scapy.ICMP(type=8, id=0x9015, seq=18917)\n",
      "\n",
      "This is a packet summary:\n",
      "192.168.1.190 → 192.168.1.152 DNS 193 Standard query response 0x0971 No such name AAAA a2z3kk2ebqzso7.iot.ap-southeast-2.amazonaws.com SOA ns-1926.awsdns-48.co.uk\n",
      "This is the python code to generate the packet:\n",
      "IP(src=\"192.168.1.190\", dst=\"192.168.1.152\")/DNS(id=0x0971, qr=1, opcode=0, rcode=3, qdcount=1, ancount=0, nscount=0, arcount=0, qd=DNSQR(qname=\"a2z3kk2ebqzso7.iot.ap-southeast-2.amazonaws.com\", qtype=\"SOA\", qclass=\"IN\"))\n",
      "\n",
      "These are the packet summaries:\n",
      "192.168.1.152 → 192.168.1.190 DNS 109 Standard query 0x8d29 A a2z3kk2ebqzso7.iot.ap-southeast-2.amazonaws.com\n",
      "192.168.1.193 → 192.168.1.190 ICMP 76 Echo (ping) request id=0x0001, seq=5456\n",
      "192.168.1.190 → 192.168.1.192 ICMP 100 Echo (ping) reply id=0x112d, seq=5469\n",
      "192.168.1.190 → 192.168.1.192 ICMP 100 Echo (ping) reply id=0x112d, seq=6133\n",
      "192.168.1.190 → 192.168.1.194 ICMP 100 Echo (ping) reply id=0x9015, seq=19453\n",
      "\n",
      "Generate python code for creating these packets with scapy framework and put them all in a list named pkt_list.\n"
     ]
    }
   ],
   "source": [
    "for i in range(1):\n",
    "    summaries = random.choices(packets_summary,k=packets_per_request)\n",
    "    query = \"This is a packet summary:\\n\"\n",
    "    query += \"192.168.1.194 → 192.168.1.190 ICMP 100 Echo (ping) request id=0x9015, seq=18917\\n\"\n",
    "    query += \"This is the python code to generate the packet:\\n\"\n",
    "    query += 'scapy.IP(src=\"192.168.1.194\", dst=\"192.168.1.190\")/scapy.ICMP(type=8, id=0x9015, seq=18917)\\n\\n'\n",
    "    query += \"This is a packet summary:\\n\"\n",
    "    query += \"192.168.1.190 → 192.168.1.152 DNS 193 Standard query response 0x0971 No such name AAAA a2z3kk2ebqzso7.iot.ap-southeast-2.amazonaws.com SOA ns-1926.awsdns-48.co.uk\\n\"\n",
    "    query += \"This is the python code to generate the packet:\\n\"\n",
    "    query += 'IP(src=\"192.168.1.190\", dst=\"192.168.1.152\")/DNS(id=0x0971, qr=1, opcode=0, rcode=3, qdcount=1, ancount=0, nscount=0, arcount=0, qd=DNSQR(qname=\"a2z3kk2ebqzso7.iot.ap-southeast-2.amazonaws.com\", qtype=\"SOA\", qclass=\"IN\"))\\n\\n'\n",
    "\n",
    "    query += \"These are the packet summaries:\\n\"\n",
    "    text_sum = \"\"\n",
    "    for summary in summaries:\n",
    "        query += summary + \"\\n\"\n",
    "        text_sum += summary + \"\\n\"\n",
    "\n",
    "    query += \"\\nGenerate python code for creating these packets with scapy framework and put them all in a list named pkt_list.\"\n",
    "\n",
    "    print(query)\n",
    "    break\n",
    "    \n",
    "    completion = openai.Completion.create(engine=\"text-davinci-003\", prompt=query,max_tokens=2600,temperature=0.1)\n",
    "    completion[\"prompt_summary\"] = text_sum\n",
    "    responses.append(completion)\n",
    "\n",
    "    #print(responses[-1].choices[0].text)\n",
    "    \n",
    "    exec(responses[-1].choices[0].text)\n",
    "    pickle.dump(responses, open( \"../data/pickle/davinci_pairs2.pkl\", \"wb\" ) )\n",
    "    print(len(responses))\n"
   ]
  },
  {
   "cell_type": "code",
   "execution_count": 42,
   "id": "bd8bb17f-6a7b-4520-90b2-9d3a55737eac",
   "metadata": {},
   "outputs": [
    {
     "name": "stdout",
     "output_type": "stream",
     "text": [
      "[<IP  frag=0 proto=icmp src=192.168.1.190 dst=192.168.1.194 |<ICMP  type=echo-reply id=0x9015 seq=0x4b4a |>>, <IP  frag=0 proto=icmp src=192.168.1.190 dst=192.168.1.193 |<ICMP  type=echo-reply id=0x1 seq=0xffb |>>, <IP  src=192.168.1.152 dst=192.168.1.190 |<DNS  id=37414 qr=0 opcode=QUERY rcode=ok qdcount=1 ancount=0 nscount=0 arcount=0 qd=<DNSQR  qname='a2z3kk2ebqzso7.iot.ap-southeast-2.amazonaws.com.' qtype=AAAA qclass=IN |> |>>, <IP  frag=0 proto=icmp src=192.168.1.193 dst=192.168.1.190 |<ICMP  type=echo-request id=0x1 seq=0x1453 |>>, <IP  frag=0 proto=icmp src=192.168.1.190 dst=192.168.1.192 |<ICMP  type=echo-reply id=0x112d seq=0x1658 |>>]\n"
     ]
    }
   ],
   "source": [
    "exec(responses[-1].choices[0].text)\n",
    "print(pkt_list)"
   ]
  },
  {
   "cell_type": "code",
   "execution_count": 85,
   "id": "31f2709a-8b38-4d83-8420-1712fb6a6471",
   "metadata": {},
   "outputs": [
    {
     "name": "stdout",
     "output_type": "stream",
     "text": [
      "192.168.1.193 → 192.168.1.190 ICMP 76 Echo (ping) request id=0x0001, seq=5129\n",
      "192.168.1.192 → 192.168.1.190 ICMP 100 Echo (ping) request id=0x112d, seq=6406\n",
      "2405:6e00:10ce:2c00:20c:29ff:feee:e07a → 2600:9000:5301:200::1 DNS 120 Standard query 0x30e9 A shavar.services.mozilla.com OPT\n",
      "2001:503:ba3e::2:30 → 2405:6e00:10ce:2c00:20c:29ff:feee:e07a DNS 1161 Standard query response 0x4aa2 NS <Root> NS e.root-servers.net NS h.root-servers.net NS l.root-servers.net NS i.root-servers.net NS a.root-servers.net NS d.root-servers.net NS c.root-servers.net NS b.root-servers.net NS j.root-servers.net NS k.root-servers.net NS g.root-servers.net NS m.root-servers.net NS f.root-servers.net RRSIG A 192.203.230.10 AAAA 2001:500:a8::e A 198.97.190.53 AAAA 2001:500:1::53 A 199.7.83.42 AAAA 2001:500:9f::42 A 192.36.148.17 AAAA 2001:7fe::53 A 198.41.0.4 AAAA 2001:503:ba3e::2:30 A 199.7.91.13 AAAA 2001:500:2d::d A 192.33.4.12 AAAA 2001:500:2::c A 199.9.14.201 AAAA 2001:500:200::b A 192.58.128.30 AAAA 2001:503:c27::2:30 A 193.0.14.129 AAAA 2001:7fd::1 A 192.112.36.4 AAAA 2001:500:12::d0d A 202.12.27.33 AAAA 2001:dc3::35 A 192.5.5.241 AAAA 2001:500:2f::f OPT\n",
      "192.168.1.190 → 192.168.1.193 ICMP 76 Echo (ping) reply id=0x0001, seq=5449\n",
      "\n",
      "\n",
      "\n",
      "pkt_list = [scapy.IP(src=\"192.168.1.193\", dst=\"192.168.1.190\")/scapy.ICMP(type=8, id=0x0001, seq=5129),\n",
      "            scapy.IP(src=\"192.168.1.192\", dst=\"192.168.1.190\")/scapy.ICMP(type=8, id=0x112d, seq=6406),\n",
      "            scapy.IP(src=\"2405:6e00:10ce:2c00:20c:29ff:feee:e07a\", dst=\"2600:9000:5301:200::1\")/DNS(id=0x30e9, qr=0, opcode=0, rcode=0, qdcount=1, ancount=0, nscount=0, arcount=0, qd=DNSQR(qname=\"shavar.services.mozilla.com\", qtype=\"A\", qclass=\"IN\")),\n",
      "            scapy.IP(src=\"2001:503:ba3e::2:30\", dst=\"2405:6e00:10ce:2c00:20c:29ff:feee:e07a\")/DNS(id=0x4aa2, qr=1, opcode=0, rcode=0, qdcount=1, ancount=13, nscount=13, arcount=4, qd=DNSQR(qname=\"<Root>\", qtype=\"NS\", qclass=\"IN\"), an=DNSRR(rrname=\"<Root>\", type=\"NS\", rclass=\"IN\", ttl=172800, rdata=\"e.root-servers.net\"), ns=DNSRR(rrname=\"<Root>\", type=\"NS\", rclass=\"IN\", ttl=172800, rdata=\"h.root-servers.net\"), ns=DNSRR(rrname=\"<Root>\", type=\"NS\", rclass=\"IN\", ttl=172800, rdata=\"l.root-servers.net\"), ns=DNSRR(rrname=\"<Root>\", type=\"NS\", rclass=\"IN\", ttl=172800, rdata=\"i.root-servers.net\"), ns=DNSRR(rrname=\"<Root>\", type=\"NS\", rclass=\"IN\", ttl=172800, rdata=\"a.root-servers.net\"), ns=DNSRR(rrname=\"<Root>\", type=\"NS\", rclass=\"IN\", ttl=172800, rdata=\"d.root-servers.net\"), ns=DNSRR(rrname=\"<Root>\", type=\"NS\", rclass=\"IN\", ttl=172800, rdata=\"c.root-servers.net\"), ns=DNSRR(rrname=\"<Root>\", type=\"NS\", rclass=\"IN\", ttl=172800, rdata=\"b.root-servers.net\"), ns=DNSRR(rrname=\"<Root>\", type=\"NS\", rclass=\"IN\", ttl=172800, rdata=\"j.root-servers.net\"), ns=DNSRR(rrname=\"<Root>\", type=\"NS\", rclass=\"IN\", ttl=172800, rdata=\"k.root-servers.net\"), ns=DNSRR(rrname=\"<Root>\", type=\"NS\", rclass=\"IN\", ttl=172800, rdata=\"g.root-servers.net\"), ns=DNSRR(rrname=\"<Root>\", type=\"NS\", rclass=\"IN\", ttl=172800, rdata=\"m.root-servers.net\"), ns=DNSRR(rrname=\"<Root>\", type=\"NS\", rclass=\"IN\", ttl=172800, rdata=\"f.root-servers.net\"), ar=DNSRR(rrname=\"shavar.services.mozilla.com\", type=\"A\", rclass=\"IN\", ttl=300, rdata=\"192.203.230.10\"), ar=DNSRR(rrname=\"shavar.services.mozilla.com\", type=\"AAAA\", rclass=\"IN\", ttl=300, rdata=\"2001:500:a8::e\"), ar=DNSRR(rrname=\"shavar.services.mozilla.com\", type=\"A\", rclass=\"IN\", ttl=300, rdata=\"198.97.190.53\"), ar=DNSRR(rrname=\"shavar.services.mozilla.com\", type=\"AAAA\", rclass=\"IN\", ttl=300, rdata=\"2001:500:1::53\"), ar=DNSRR(rrname=\"shavar.services.mozilla.com\", type=\"A\", rclass=\"IN\", ttl=300, rdata=\"199.7.83.42\"), ar=DNSRR(rrname=\"shavar.services.mozilla.com\", type=\"AAAA\", rclass=\"IN\", ttl=300, rdata=\"2001:500:9f::42\"), ar=DNSRR(rrname=\"shavar.services.mozilla.com\", type=\"A\", rclass=\"IN\", ttl=300, rdata=\"192.36.148.17\"), ar=DNSRR(rrname=\"shavar.services.mozilla.com\", type=\"AAAA\", rclass=\"IN\", ttl=300, rdata=\"2001:7fe::53\"), ar=DNSRR(rrname=\"shavar.services.mozilla.com\", type=\"A\", rclass=\"IN\", ttl=300, rdata=\"198.41.0.4\"), ar=DNSRR(rrname=\"shavar.services.mozilla.com\", type=\"AAAA\", rclass=\"IN\", ttl=300, rdata=\"2001:503:ba3e::2:30\"), ar=DNSRR(rrname=\"shavar.services.mozilla.com\", type=\"A\", rclass=\"IN\", ttl=300, rdata=\"199.7.91.13\"), ar=DNSRR(rrname=\"shavar.services.mozilla.com\", type=\"AAAA\", rclass=\"IN\", ttl=300, rdata=\"2001:500:2d::d\"), ar=DNSRR(rrname=\"shavar.services.mozilla.com\", type=\"A\", rclass=\"IN\", ttl=300, rdata=\"192.33.4.12\"), ar=DNSRR(rrname=\"shavar.services.mozilla.com\", type=\"AAAA\", rclass=\"IN\", ttl=300, rdata=\"2001:500:2::c\"), ar=DNSRR(rrname=\"shavar.services.mozilla.com\", type=\"A\", rclass=\"IN\", ttl=300, rdata=\"199.9.14.201\"), ar=DNSRR(rrname=\"shavar.services.mozilla.com\", type=\"AAAA\", rclass=\"IN\", ttl=300, rdata=\"2001:500:200::b\"), ar=DNSRR(rrname=\"shavar.services.mozilla.com\", type=\"A\", rclass=\"IN\", ttl=300, rdata=\"192.58.128.30\"), ar=DNSRR(rrname=\"shavar.services.mozilla.com\", type=\"AAAA\", rclass=\"IN\", ttl=300, rdata=\"2001:503:c27::2:30\"), ar=DNSRR(rrname=\"shavar.services.mozilla.com\", type=\"A\", rclass=\"IN\", ttl=300, rdata=\"193.0.14.129\"), ar=DNSRR(rrname=\"shavar.services.mozilla.com\", type=\"AAAA\", rclass=\"IN\", ttl=300, rdata=\"2001:7fd::1\"), ar=DNSRR(rrname=\"shavar.services.mozilla.com\", type=\"A\", rclass=\"IN\", ttl=300, rdata=\"192.112.36.4\"), ar=DNSRR(rrname=\"shavar.services.mozilla.com\", type=\"AAAA\", rclass=\"IN\", ttl=300, rdata=\"2001:500:12::d0d\"), ar=DNSRR(rrname=\"shavar.services.mozilla.com\", type=\"A\", rclass=\"IN\", ttl=300, rdata=\"202.12.27.33\"), ar=DNSRR(rrname=\"shavar.services.mozilla.com\", type=\"AAAA\", rclass=\"IN\", ttl=300, rdata=\"2001:dc3::35\"), ar=DNSRR(rrname=\"shavar.services.mozilla.com\", type=\"A\", rclass=\"IN\", ttl=300, rdata=\"192.5.5.241\"), ar=DNSRR(rrname=\"shavar.services.mozilla.com\", type=\"AAAA\", rclass=\"IN\", ttl=300, rdata=\"2001:500:2f::f\"), ar=DNSRR(rrname=\"shavar.services.mozilla.com\", type=\"OPT\", rclass=\"IN\", ttl=0, rdata=\"\")),\n",
      "            scapy.IP(src=\"192.168.1.190\", dst=\"192.168.1.193\")/scapy.ICMP(type=0, id=0x0001, seq=5449)]\n"
     ]
    }
   ],
   "source": [
    "print(responses[-1].prompt_summary)\n",
    "print(responses[-1].choices[0].text)"
   ]
  },
  {
   "cell_type": "code",
   "execution_count": 44,
   "id": "21a0bc16-9c1d-43f2-8380-23060cb8b6c9",
   "metadata": {},
   "outputs": [],
   "source": [
    "pickle.dump(responses, open( \"../data/pickle/davinci_pairs2.pkl\", \"wb\" ) )"
   ]
  },
  {
   "cell_type": "code",
   "execution_count": 11,
   "id": "9bb88436-91c5-40a7-86fc-d540dbbb71c1",
   "metadata": {},
   "outputs": [],
   "source": [
    "fixed_text = \"\"\"\n",
    "\n",
    "pkt_list = [scapy.IP(src=\"192.168.1.152\", dst=\"192.168.1.190\")/scapy.DNS(id=0x8d29, qr=0, opcode=0, rcode=0, qdcount=1, ancount=0, nscount=0, arcount=0, qd=DNSQR(qname=\"a2z3kk2ebqzso7.iot.ap-southeast-2.amazonaws.com\", qtype=\"A\", qclass=\"IN\")),\n",
    "            scapy.IP(src=\"192.168.1.193\", dst=\"192.168.1.190\")/scapy.ICMP(type=8, id=0x0001, seq=5456),\n",
    "            scapy.IP(src=\"192.168.1.190\", dst=\"192.168.1.192\")/scapy.ICMP(type=0, id=0x112d, seq=5469),\n",
    "            scapy.IP(src=\"192.168.1.190\", dst=\"192.168.1.192\")/scapy.ICMP(type=0, id=0x112d, seq=6133),\n",
    "            scapy.IP(src=\"192.168.1.190\", dst=\"192.168.1.194\")/scapy.ICMP(type=0, id=0x9015, seq=19453)]\n",
    "\"\"\"\n",
    "\n"
   ]
  },
  {
   "cell_type": "code",
   "execution_count": 12,
   "id": "0593a80a-1e9e-42bb-86d7-c0c806133bed",
   "metadata": {},
   "outputs": [],
   "source": [
    "exec(fixed_text)"
   ]
  },
  {
   "cell_type": "code",
   "execution_count": 13,
   "id": "8aef95a7-f3ef-404f-a8fe-d95477263888",
   "metadata": {},
   "outputs": [
    {
     "data": {
      "text/plain": [
       "[<IP  src=192.168.1.152 dst=192.168.1.190 |<DNS  id=36137 qr=0 opcode=QUERY rcode=ok qdcount=1 ancount=0 nscount=0 arcount=0 qd=<DNSQR  qname='a2z3kk2ebqzso7.iot.ap-southeast-2.amazonaws.com.' qtype=A qclass=IN |> |>>,\n",
       " <IP  frag=0 proto=icmp src=192.168.1.193 dst=192.168.1.190 |<ICMP  type=echo-request id=0x1 seq=0x1550 |>>,\n",
       " <IP  frag=0 proto=icmp src=192.168.1.190 dst=192.168.1.192 |<ICMP  type=echo-reply id=0x112d seq=0x155d |>>,\n",
       " <IP  frag=0 proto=icmp src=192.168.1.190 dst=192.168.1.192 |<ICMP  type=echo-reply id=0x112d seq=0x17f5 |>>,\n",
       " <IP  frag=0 proto=icmp src=192.168.1.190 dst=192.168.1.194 |<ICMP  type=echo-reply id=0x9015 seq=0x4bfd |>>]"
      ]
     },
     "execution_count": 13,
     "metadata": {},
     "output_type": "execute_result"
    }
   ],
   "source": [
    "pkt_list"
   ]
  },
  {
   "cell_type": "code",
   "execution_count": 82,
   "id": "36835b6f-9fa5-4cf8-a8a8-aa5de226066d",
   "metadata": {},
   "outputs": [],
   "source": [
    "responses[-1].choices[0].text = fixed_text"
   ]
  },
  {
   "cell_type": "code",
   "execution_count": 60,
   "id": "d994762f-2ebe-453f-8b8e-d2c601db1bba",
   "metadata": {},
   "outputs": [
    {
     "name": "stdout",
     "output_type": "stream",
     "text": [
      "192.168.1.190 → 192.168.1.192 DNS 222 Standard query response 0x1565 A daisy.ubuntu.com A 162.213.33.132 A 162.213.33.108 NS ns1.canonical.com NS ns3.canonical.com NS ns2.canonical.com A 91.189.94.173 A 91.189.95.3 A 91.189.91.139\n",
      "192.168.1.190 → 192.168.1.192 ICMP 100 Echo (ping) reply id=0x112d, seq=5807\n",
      "192.168.1.190 → 192.168.1.192 ICMP 100 Echo (ping) reply id=0x112d, seq=6340\n",
      "192.168.1.190 → 192.168.1.192 ICMP 100 Echo (ping) reply id=0x112d, seq=6600\n",
      "192.168.1.194 → 192.168.1.190 ICMP 100 Echo (ping) request id=0x9015, seq=19885\n",
      "\n",
      "\n",
      "\n",
      "pkt_list = [scapy.IP(src=\"192.168.1.190\", dst=\"192.168.1.192\")/DNS(id=0x1565, qr=1, opcode=0, rcode=0, qdcount=1, ancount=5, nscount=3, arcount=0, qd=DNSQR(qname=\"daisy.ubuntu.com\", qtype=\"A\", qclass=\"IN\"), an=DNSRR(rrname=\"daisy.ubuntu.com\", type=\"A\", rclass=\"IN\", ttl=172800, rdata=\"162.213.33.132\")/DNSRR(rrname=\"daisy.ubuntu.com\", type=\"A\", rclass=\"IN\", ttl=172800, rdata=\"162.213.33.108\")/DNSRR(rrname=\"daisy.ubuntu.com\", type=\"NS\", rclass=\"IN\", ttl=172800, rdata=\"ns1.canonical.com\")/DNSRR(rrname=\"daisy.ubuntu.com\", type=\"NS\", rclass=\"IN\", ttl=172800, rdata=\"ns3.canonical.com\")/DNSRR(rrname=\"daisy.ubuntu.com\", type=\"NS\", rclass=\"IN\", ttl=172800, rdata=\"ns2.canonical.com\")/DNSRR(rrname=\"daisy.ubuntu.com\", type=\"A\", rclass=\"IN\", ttl=172800, rdata=\"91.189.94.173\")/DNSRR(rrname=\"daisy.ubuntu.com\", type=\"A\", rclass=\"IN\", ttl=172800, rdata=\"91.189.95.3\")/DNSRR(rrname=\"daisy.ubuntu.com\", type=\"A\", rclass=\"IN\", ttl=172800, rdata=\"91.189.91.139\")], scapy.IP(src=\"192.168.1.190\", dst=\"192.168.1.192\")/scapy.ICMP(type=0, id=0x112d, seq=5807), scapy.IP(src=\"192.168.1.190\", dst=\"192.168.1.192\")/scapy.ICMP(type=0, id=0x112d, seq=6340), scapy.IP(src=\"192.168.1.190\", dst=\"192.168.1.192\")/scapy.ICMP(type=0, id=0x112d, seq=6600), scapy.IP(src=\"192.168.1.194\", dst=\"192.168.1.190\")/scapy.ICMP(type=8, id=0x9015, seq=19885)]\n"
     ]
    }
   ],
   "source": [
    "print(responses[-1].prompt_summary)\n",
    "print(responses[-1].choices[0].text)"
   ]
  },
  {
   "cell_type": "code",
   "execution_count": 103,
   "id": "9bb3a5ba-9651-477a-b0e4-b5869e204fe2",
   "metadata": {},
   "outputs": [],
   "source": [
    "del responses[-1]"
   ]
  },
  {
   "cell_type": "code",
   "execution_count": 22,
   "id": "9323cfbe-0e28-4fb3-806c-0b162516024b",
   "metadata": {},
   "outputs": [],
   "source": [
    "\n",
    "pkt_list = []\n",
    "\n",
    "pkt_list.append(scapy.IP(src=\"192.168.1.190\", dst=\"192.168.1.193\")/scapy.ICMP(type=76, id=0x0001, seq=4091))\n",
    "\n",
    "pkt_list.append(scapy.IP(src=\"192.168.1.194\", dst=\"192.168.1.190\")/scapy.ICMP(type=100, id=0x9015, seq=18476))\n",
    "\n",
    "pkt_list.append(scapy.IP(src=\"192.168.1.192\", dst=\"192.168.1.190\")/scapy.ICMP(type=100, id=0x112d, seq=5799))\n",
    "\n",
    "pkt_list.append(scapy.IP(src=\"192.168.1.194\", dst=\"192.168.1.190\")/scapy.ICMP(type=100, id=0x9015, seq=19355))\n",
    "\n",
    "pkt_list.append(scapy.IP(src=\"192.168.1.193\", dst=\"192.168.1.190\")/scapy.ICMP(type=76, id=0x0001, seq=4322))\n",
    "\n",
    "pkt_list.append(scapy.IP(src=\"192.168.1.192\", dst=\"192.168.1.190\")/scapy.ICMP(type=100, id=0x112d, seq=5804))\n",
    "\n",
    "pkt_list.append(scapy.IP(src=\"192.168.1.190\", dst=\"192.168.1.194\")/scapy.ICMP(type=100, id=0x9015, seq=19228))\n",
    "\n",
    "pkt_list.append(scapy.IP(src=\"192.168.1.190\", dst=\"192.168.1.194\")/scapy.ICMP(type=100, id=0x9015, seq=19718))\n",
    "\n",
    "pkt_list.append(scapy.IP(src=\"192.168.1.193\", dst=\"192.168.1.190\")/scapy.ICMP(type=76, id=0x0001, seq=5336))"
   ]
  },
  {
   "cell_type": "code",
   "execution_count": 24,
   "id": "f33b0c49-5d12-4392-b76b-f66a1c41be20",
   "metadata": {},
   "outputs": [],
   "source": [
    "with open(\"../data/pcapgenerated_curie_commands.pcap\", \"wb\") as f:\n",
    "    wrpcap(f, pkt_list)"
   ]
  },
  {
   "cell_type": "code",
   "execution_count": 32,
   "id": "6cc2d0dd-f878-4dea-9607-dd5991b70735",
   "metadata": {},
   "outputs": [
    {
     "name": "stdout",
     "output_type": "stream",
     "text": [
      "{\n",
      "  \"choices\": [\n",
      "    {\n",
      "      \"finish_reason\": \"stop\",\n",
      "      \"index\": 0,\n",
      "      \"logprobs\": null,\n",
      "      \"text\": \"\\n\\npkt_list = [scapy.IP(src=\\\"192.168.1.192\\\", dst=\\\"192.168.1.190\\\")/scapy.ICMP(type=8, id=0x112d, seq=5619),\\n            scapy.IP(src=\\\"192.168.1.194\\\", dst=\\\"192.168.1.190\\\")/scapy.ICMP(type=8, id=0x9015, seq=19673),\\n            scapy.IP(src=\\\"192.168.1.194\\\", dst=\\\"192.168.1.190\\\")/scapy.ICMP(type=8, id=0x9015, seq=18836),\\n            scapy.IP(src=\\\"192.168.1.190\\\", dst=\\\"192.168.1.193\\\")/scapy.ICMP(type=0, id=0x0001, seq=4886),\\n            scapy.IP(src=\\\"192.168.1.190\\\", dst=\\\"192.168.1.193\\\")/scapy.ICMP(type=0, id=0x0001, seq=4305)]\"\n",
      "    }\n",
      "  ],\n",
      "  \"created\": 1677576757,\n",
      "  \"id\": \"cmpl-6oqdZkXJZj4oXycbtlpbzYMv4Jzfz\",\n",
      "  \"model\": \"text-davinci-003\",\n",
      "  \"object\": \"text_completion\",\n",
      "  \"prompt_summary\": \"192.168.1.192 \\u2192 192.168.1.190 ICMP 100 Echo (ping) request id=0x112d, seq=5619\\n192.168.1.194 \\u2192 192.168.1.190 ICMP 100 Echo (ping) request id=0x9015, seq=19673\\n192.168.1.194 \\u2192 192.168.1.190 ICMP 100 Echo (ping) request id=0x9015, seq=18836\\n192.168.1.190 \\u2192 192.168.1.193 ICMP 76 Echo (ping) reply id=0x0001, seq=4886\\n192.168.1.190 \\u2192 192.168.1.193 ICMP 76 Echo (ping) reply id=0x0001, seq=4305\\n\",\n",
      "  \"usage\": {\n",
      "    \"completion_tokens\": 254,\n",
      "    \"prompt_tokens\": 519,\n",
      "    \"total_tokens\": 773\n",
      "  }\n",
      "}\n"
     ]
    }
   ],
   "source": [
    "print(responses[0])"
   ]
  },
  {
   "cell_type": "code",
   "execution_count": null,
   "id": "91a6d790-25f0-4413-b862-a1035c82a0c7",
   "metadata": {},
   "outputs": [],
   "source": []
  }
 ],
 "metadata": {
  "kernelspec": {
   "display_name": "Python 3 (ipykernel)",
   "language": "python",
   "name": "python3"
  },
  "language_info": {
   "codemirror_mode": {
    "name": "ipython",
    "version": 3
   },
   "file_extension": ".py",
   "mimetype": "text/x-python",
   "name": "python",
   "nbconvert_exporter": "python",
   "pygments_lexer": "ipython3",
   "version": "3.11.5"
  }
 },
 "nbformat": 4,
 "nbformat_minor": 5
}
