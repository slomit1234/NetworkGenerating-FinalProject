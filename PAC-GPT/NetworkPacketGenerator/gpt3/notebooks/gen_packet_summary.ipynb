{
 "cells": [
  {
   "cell_type": "code",
   "execution_count": 1,
   "id": "d8ab9384-bfd6-4e54-be3a-3bbb87fc4360",
   "metadata": {},
   "outputs": [],
   "source": [
    "import random\n",
    "import re\n",
    "\n",
    "import openai\n",
    "\n",
    "from scapy.all import Raw\n",
    "from scapy.utils import RawPcapReader, wrpcap\n",
    "\n",
    "from scapy.layers.l2 import Ether\n",
    "from scapy.layers.inet import IP, TCP, ICMP"
   ]
  },
  {
   "cell_type": "code",
   "execution_count": 2,
   "id": "13c8bff7-218b-4916-8e91-663ddedddf8e",
   "metadata": {},
   "outputs": [],
   "source": [
    "sample_gen_num = 100"
   ]
  },
  {
   "cell_type": "code",
   "execution_count": 3,
   "id": "9a634bf4-047e-4238-970e-ef087ad3bec5",
   "metadata": {},
   "outputs": [],
   "source": [
    "def process_pcap(file_name):\n",
    "    print('Opening {}...'.format(file_name))\n",
    "\n",
    "    count = 0\n",
    "    interesting_packet_count = 0\n",
    "\n",
    "    interesting_packets = []\n",
    "    for (pkt_data, pkt_metadata,) in RawPcapReader(file_name):\n",
    "        count += 1\n",
    "\n",
    "        ether_pkt = Ether(pkt_data)\n",
    "        if 'type' not in ether_pkt.fields:\n",
    "            # LLC frames will have 'len' instead of 'type'.\n",
    "            # We disregard those\n",
    "            continue\n",
    "\n",
    "        if ether_pkt.type != 0x0800:\n",
    "            # disregard non-IPv4 packets\n",
    "            continue\n",
    "        ip_pkt = ether_pkt[IP]\n",
    "        if ip_pkt.proto != 1:\n",
    "            # Ignore non-TCP packet\n",
    "            continue\n",
    "        interesting_packet_count += 1\n",
    "        interesting_packets.append(ether_pkt)\n",
    "\n",
    "    print('{} contains {} packets ({} interesting)'.\n",
    "          format(file_name, count, interesting_packet_count))\n",
    "\n",
    "    return interesting_packets\n"
   ]
  },
  {
   "cell_type": "code",
   "execution_count": 4,
   "id": "804370db-2a5d-40ad-8a66-cb8edf712c06",
   "metadata": {},
   "outputs": [
    {
     "name": "stdout",
     "output_type": "stream",
     "text": [
      "Opening ../pcap-analysis/data/encoder/pcap/custom_pings3.pcapng...\n"
     ]
    },
    {
     "ename": "FileNotFoundError",
     "evalue": "[Errno 2] No such file or directory: '../pcap-analysis/data/encoder/pcap/custom_pings3.pcapng'",
     "output_type": "error",
     "traceback": [
      "\u001b[1;31m---------------------------------------------------------------------------\u001b[0m",
      "\u001b[1;31mFileNotFoundError\u001b[0m                         Traceback (most recent call last)",
      "File \u001b[1;32m~\\anaconda3\\Lib\\site-packages\\scapy\\utils.py:1209\u001b[0m, in \u001b[0;36mPcapReader_metaclass.open\u001b[1;34m(fname)\u001b[0m\n\u001b[0;32m   1208\u001b[0m \u001b[38;5;28;01mtry\u001b[39;00m:\n\u001b[1;32m-> 1209\u001b[0m     fdesc \u001b[38;5;241m=\u001b[39m gzip\u001b[38;5;241m.\u001b[39mopen(filename, \u001b[38;5;124m\"\u001b[39m\u001b[38;5;124mrb\u001b[39m\u001b[38;5;124m\"\u001b[39m)  \u001b[38;5;66;03m# type: _ByteStream\u001b[39;00m\n\u001b[0;32m   1210\u001b[0m     magic \u001b[38;5;241m=\u001b[39m fdesc\u001b[38;5;241m.\u001b[39mread(\u001b[38;5;241m4\u001b[39m)\n",
      "File \u001b[1;32m~\\anaconda3\\Lib\\gzip.py:58\u001b[0m, in \u001b[0;36mopen\u001b[1;34m(filename, mode, compresslevel, encoding, errors, newline)\u001b[0m\n\u001b[0;32m     57\u001b[0m \u001b[38;5;28;01mif\u001b[39;00m \u001b[38;5;28misinstance\u001b[39m(filename, (\u001b[38;5;28mstr\u001b[39m, \u001b[38;5;28mbytes\u001b[39m, os\u001b[38;5;241m.\u001b[39mPathLike)):\n\u001b[1;32m---> 58\u001b[0m     binary_file \u001b[38;5;241m=\u001b[39m GzipFile(filename, gz_mode, compresslevel)\n\u001b[0;32m     59\u001b[0m \u001b[38;5;28;01melif\u001b[39;00m \u001b[38;5;28mhasattr\u001b[39m(filename, \u001b[38;5;124m\"\u001b[39m\u001b[38;5;124mread\u001b[39m\u001b[38;5;124m\"\u001b[39m) \u001b[38;5;129;01mor\u001b[39;00m \u001b[38;5;28mhasattr\u001b[39m(filename, \u001b[38;5;124m\"\u001b[39m\u001b[38;5;124mwrite\u001b[39m\u001b[38;5;124m\"\u001b[39m):\n",
      "File \u001b[1;32m~\\anaconda3\\Lib\\gzip.py:174\u001b[0m, in \u001b[0;36mGzipFile.__init__\u001b[1;34m(self, filename, mode, compresslevel, fileobj, mtime)\u001b[0m\n\u001b[0;32m    173\u001b[0m \u001b[38;5;28;01mif\u001b[39;00m fileobj \u001b[38;5;129;01mis\u001b[39;00m \u001b[38;5;28;01mNone\u001b[39;00m:\n\u001b[1;32m--> 174\u001b[0m     fileobj \u001b[38;5;241m=\u001b[39m \u001b[38;5;28mself\u001b[39m\u001b[38;5;241m.\u001b[39mmyfileobj \u001b[38;5;241m=\u001b[39m builtins\u001b[38;5;241m.\u001b[39mopen(filename, mode \u001b[38;5;129;01mor\u001b[39;00m \u001b[38;5;124m'\u001b[39m\u001b[38;5;124mrb\u001b[39m\u001b[38;5;124m'\u001b[39m)\n\u001b[0;32m    175\u001b[0m \u001b[38;5;28;01mif\u001b[39;00m filename \u001b[38;5;129;01mis\u001b[39;00m \u001b[38;5;28;01mNone\u001b[39;00m:\n",
      "\u001b[1;31mFileNotFoundError\u001b[0m: [Errno 2] No such file or directory: '../pcap-analysis/data/encoder/pcap/custom_pings3.pcapng'",
      "\nDuring handling of the above exception, another exception occurred:\n",
      "\u001b[1;31mFileNotFoundError\u001b[0m                         Traceback (most recent call last)",
      "Cell \u001b[1;32mIn[4], line 1\u001b[0m\n\u001b[1;32m----> 1\u001b[0m packets_scapy \u001b[38;5;241m=\u001b[39m process_pcap(\u001b[38;5;124m\"\u001b[39m\u001b[38;5;124m../pcap-analysis/data/encoder/pcap/custom_pings3.pcapng\u001b[39m\u001b[38;5;124m\"\u001b[39m)\n",
      "Cell \u001b[1;32mIn[3], line 8\u001b[0m, in \u001b[0;36mprocess_pcap\u001b[1;34m(file_name)\u001b[0m\n\u001b[0;32m      5\u001b[0m interesting_packet_count \u001b[38;5;241m=\u001b[39m \u001b[38;5;241m0\u001b[39m\n\u001b[0;32m      7\u001b[0m interesting_packets \u001b[38;5;241m=\u001b[39m []\n\u001b[1;32m----> 8\u001b[0m \u001b[38;5;28;01mfor\u001b[39;00m (pkt_data, pkt_metadata,) \u001b[38;5;129;01min\u001b[39;00m RawPcapReader(file_name):\n\u001b[0;32m      9\u001b[0m     count \u001b[38;5;241m+\u001b[39m\u001b[38;5;241m=\u001b[39m \u001b[38;5;241m1\u001b[39m\n\u001b[0;32m     11\u001b[0m     ether_pkt \u001b[38;5;241m=\u001b[39m Ether(pkt_data)\n",
      "File \u001b[1;32m~\\anaconda3\\Lib\\site-packages\\scapy\\utils.py:1179\u001b[0m, in \u001b[0;36mPcapReader_metaclass.__call__\u001b[1;34m(cls, filename)\u001b[0m\n\u001b[0;32m   1174\u001b[0m \u001b[38;5;250m\u001b[39m\u001b[38;5;124;03m\"\"\"Creates a cls instance, use the `alternative` if that\u001b[39;00m\n\u001b[0;32m   1175\u001b[0m \u001b[38;5;124;03mfails.\u001b[39;00m\n\u001b[0;32m   1176\u001b[0m \n\u001b[0;32m   1177\u001b[0m \u001b[38;5;124;03m\"\"\"\u001b[39;00m\n\u001b[0;32m   1178\u001b[0m i \u001b[38;5;241m=\u001b[39m \u001b[38;5;28mcls\u001b[39m\u001b[38;5;241m.\u001b[39m\u001b[38;5;21m__new__\u001b[39m(\u001b[38;5;28mcls\u001b[39m, \u001b[38;5;28mcls\u001b[39m\u001b[38;5;241m.\u001b[39m\u001b[38;5;18m__name__\u001b[39m, \u001b[38;5;28mcls\u001b[39m\u001b[38;5;241m.\u001b[39m\u001b[38;5;18m__bases__\u001b[39m, \u001b[38;5;28mcls\u001b[39m\u001b[38;5;241m.\u001b[39m\u001b[38;5;18m__dict__\u001b[39m)\n\u001b[1;32m-> 1179\u001b[0m filename, fdesc, magic \u001b[38;5;241m=\u001b[39m \u001b[38;5;28mcls\u001b[39m\u001b[38;5;241m.\u001b[39mopen(filename)\n\u001b[0;32m   1180\u001b[0m \u001b[38;5;28;01mif\u001b[39;00m \u001b[38;5;129;01mnot\u001b[39;00m magic:\n\u001b[0;32m   1181\u001b[0m     \u001b[38;5;28;01mraise\u001b[39;00m Scapy_Exception(\n\u001b[0;32m   1182\u001b[0m         \u001b[38;5;124m\"\u001b[39m\u001b[38;5;124mNo data could be read!\u001b[39m\u001b[38;5;124m\"\u001b[39m\n\u001b[0;32m   1183\u001b[0m     )\n",
      "File \u001b[1;32m~\\anaconda3\\Lib\\site-packages\\scapy\\utils.py:1212\u001b[0m, in \u001b[0;36mPcapReader_metaclass.open\u001b[1;34m(fname)\u001b[0m\n\u001b[0;32m   1210\u001b[0m         magic \u001b[38;5;241m=\u001b[39m fdesc\u001b[38;5;241m.\u001b[39mread(\u001b[38;5;241m4\u001b[39m)\n\u001b[0;32m   1211\u001b[0m     \u001b[38;5;28;01mexcept\u001b[39;00m \u001b[38;5;167;01mIOError\u001b[39;00m:\n\u001b[1;32m-> 1212\u001b[0m         fdesc \u001b[38;5;241m=\u001b[39m \u001b[38;5;28mopen\u001b[39m(filename, \u001b[38;5;124m\"\u001b[39m\u001b[38;5;124mrb\u001b[39m\u001b[38;5;124m\"\u001b[39m)\n\u001b[0;32m   1213\u001b[0m         magic \u001b[38;5;241m=\u001b[39m fdesc\u001b[38;5;241m.\u001b[39mread(\u001b[38;5;241m4\u001b[39m)\n\u001b[0;32m   1214\u001b[0m \u001b[38;5;28;01melse\u001b[39;00m:\n",
      "\u001b[1;31mFileNotFoundError\u001b[0m: [Errno 2] No such file or directory: '../pcap-analysis/data/encoder/pcap/custom_pings3.pcapng'"
     ]
    }
   ],
   "source": [
    "packets_scapy = process_pcap(\"../pcap-analysis/data/encoder/pcap/custom_pings3.pcapng\")"
   ]
  },
  {
   "cell_type": "code",
   "execution_count": 5,
   "id": "b71fb8d5-6853-4f25-8aee-3d1ed9834482",
   "metadata": {},
   "outputs": [
    {
     "data": {
      "text/plain": [
       "2261"
      ]
     },
     "execution_count": 5,
     "metadata": {},
     "output_type": "execute_result"
    }
   ],
   "source": [
    "len(packets_scapy)"
   ]
  },
  {
   "cell_type": "code",
   "execution_count": 7,
   "id": "46f766e4-a85a-44f8-8d70-d10e4e3794bc",
   "metadata": {},
   "outputs": [],
   "source": [
    "with open(\"ping_summaries.txt\",\"r\") as f:\n",
    "    packets_summary = f.read().splitlines()"
   ]
  },
  {
   "cell_type": "code",
   "execution_count": 8,
   "id": "d69ba537-d564-4e77-9ff0-371700f15130",
   "metadata": {},
   "outputs": [
    {
     "data": {
      "text/plain": [
       "2261"
      ]
     },
     "execution_count": 8,
     "metadata": {},
     "output_type": "execute_result"
    }
   ],
   "source": [
    "len(packets_summary)"
   ]
  },
  {
   "cell_type": "code",
   "execution_count": 9,
   "id": "bae40450-1cda-4cc2-8193-2a91b96509d2",
   "metadata": {},
   "outputs": [],
   "source": [
    "packets = tuple(zip(packets_summary,packets_scapy))"
   ]
  },
  {
   "cell_type": "code",
   "execution_count": 10,
   "id": "78f7dd84-bc5e-430a-b760-bb0cda6bb733",
   "metadata": {},
   "outputs": [],
   "source": [
    "engines = openai.Engine.list()"
   ]
  },
  {
   "cell_type": "code",
   "execution_count": 43,
   "id": "0f9964e5-74ee-4668-8295-91bd4b9120b2",
   "metadata": {},
   "outputs": [
    {
     "name": "stdout",
     "output_type": "stream",
     "text": [
      "This is the packet summary:\n",
      "76.76.2.0 → 130.231.202.234 ICMP 98 Echo (ping) reply id=0x0005, seq=123/31488, ttl=48 (request in 1159)\n",
      "\n",
      "This is the packet details:\n",
      "###[ IP ]### \n",
      "  version   = 4\n",
      "  ihl       = 5\n",
      "  tos       = 0x0\n",
      "  len       = 84\n",
      "  id        = 50746\n",
      "  flags     = \n",
      "  frag      = 0\n",
      "  ttl       = 48\n",
      "  proto     = icmp\n",
      "  chksum    = None\n",
      "  src       = 76.76.2.0\n",
      "  dst       = 130.231.202.234\n",
      "  \\options   \\\n",
      "###[ ICMP ]### \n",
      "     type      = echo-reply\n",
      "     code      = 0\n",
      "     chksum    = None\n",
      "     id        = 0x5\n",
      "     seq       = 0x7b\n",
      "     unused    = ''\n",
      "\n",
      "\n",
      "This is another packet summary:\n",
      "76.76.2.0 → 130.231.202.234 ICMP 98 Echo (ping) reply id=0x0005, seq=189/48384, ttl=48 (request in 1687)\n",
      "\n",
      "Generate the packet details.\n"
     ]
    }
   ],
   "source": [
    "responses = []\n",
    "for i in range(sample_gen_num):\n",
    "    summary,packet = random.choice(packets)\n",
    "    packet = packet[IP]\n",
    "    try:\n",
    "        del packet[Raw]\n",
    "    except IndexError:\n",
    "        packet.show()\n",
    "    del packet.chksum\n",
    "    del packet[ICMP].chksum\n",
    "    query = \"This is the packet summary:\\n\"\n",
    "    query += summary + \"\\n\\n\"\n",
    "    query += \"This is the packet details:\\n\"\n",
    "    query += str(packet.show(dump=True))\n",
    "    \n",
    "    summary,_ = random.choice(packets)\n",
    "    query += \"\\n\\nThis is another packet summary:\\n\"\n",
    "    query += summary + \"\\n\\n\"\n",
    "    query += \"Generate the packet details.\"\n",
    "    \n",
    "    print(query)\n",
    "    break\n",
    "    \n",
    "    completion = openai.Completion.create(engine=\"text-davinci-003\", prompt=query,max_tokens=3500)\n",
    "    completion[\"prompt_summary\"] = summary\n",
    "    responses.append(completion)\n"
   ]
  },
  {
   "cell_type": "code",
   "execution_count": 14,
   "id": "d4111b38-e0f0-4367-b969-7b20914346d2",
   "metadata": {},
   "outputs": [
    {
     "name": "stdout",
     "output_type": "stream",
     "text": [
      "100\n"
     ]
    }
   ],
   "source": [
    "print(len(responses))"
   ]
  },
  {
   "cell_type": "code",
   "execution_count": 15,
   "id": "d004a45f-5246-4b57-8731-ad5fed659106",
   "metadata": {},
   "outputs": [
    {
     "name": "stdout",
     "output_type": "stream",
     "text": [
      "8.8.8.8 → 130.231.202.234 ICMP 98 Echo (ping) reply id=0x0002, seq=258/513, ttl=109 (request in 1881)\n",
      " \n",
      "\n",
      "###[ IP ]### \n",
      "  version   = 4\n",
      "  ihl       = 5\n",
      "  tos       = 0x0\n",
      "  len       = 84\n",
      "  id        = 25911\n",
      "  flags     = \n",
      "  frag      = 0\n",
      "  ttl       = 109\n",
      "  proto     = icmp\n",
      "  chksum    = None\n",
      "  src       = 8.8.8.8\n",
      "  dst       = 130.231.202.234\n",
      "  \\options   \\\n",
      "###[ ICMP ]### \n",
      "     type      = echo-reply\n",
      "     code      = 0\n",
      "     chksum    = None\n",
      "     id        = 0x2\n",
      "     seq       = 0x102\n",
      "     unused    = ''\n"
     ]
    }
   ],
   "source": [
    "print(responses[0].prompt_summary)\n",
    "print(responses[0].choices[0].text)"
   ]
  },
  {
   "cell_type": "code",
   "execution_count": 39,
   "id": "ef4e60fb-b65d-48ef-950c-9478ac7f896e",
   "metadata": {},
   "outputs": [],
   "source": [
    "def str_to_packet(s):\n",
    "    packet = IP()\n",
    "    s2i_proto = {v:k for k,v in packet.get_field(\"proto\").i2s.items()}\n",
    "    _,ip_text,payload_text = re.split(\"\\#{3}\\[\\s*\\w*\\s*\\]\\#{3}\",s)\n",
    "    for line in ip_text.splitlines():\n",
    "        if line == \" \" or line == \"  \\\\options   \\\\\":\n",
    "            continue\n",
    "\n",
    "        try: \n",
    "            key,value = line.split(\"=\")\n",
    "        except ValueError:\n",
    "            print(line)\n",
    "            continue\n",
    "        if key.strip() == \"proto\":\n",
    "            packet[IP].proto = s2i_proto[value.strip()]\n",
    "            continue\n",
    "        try:\n",
    "            packet[IP].fields[key.strip()] = int(value.strip(),0)\n",
    "        except:\n",
    "            \n",
    "            packet[IP].fields[key.strip()] = value.strip()\n",
    "    # Handle ICMP Payload \n",
    "    if packet[IP].proto == 1:\n",
    "        packet = packet / ICMP()\n",
    "        type_conversion = {\"echo-reply\" : 0, \"echo-request\":8}\n",
    "        for line in payload_text.splitlines():\n",
    "            if line == \" \" or line == \"  \\\\options   \\\\\":\n",
    "                continue\n",
    "                \n",
    "            try: \n",
    "                key,value = line.split(\"=\")\n",
    "            except ValueError:\n",
    "                print(line)\n",
    "                continue\n",
    "            \n",
    "            try:\n",
    "                packet[ICMP].fields[key.strip()] = int(value.strip(),0)\n",
    "            except:\n",
    "                packet[ICMP].fields[key.strip()] = value.strip()\n",
    "\n",
    "        if packet.unused == \"''\":\n",
    "            packet.unused = b''\n",
    "        packet.type = type_conversion[packet.type]\n",
    "    return packet"
   ]
  },
  {
   "cell_type": "code",
   "execution_count": 40,
   "id": "697b299a-8a3e-4c73-9717-f76a352c12e3",
   "metadata": {},
   "outputs": [
    {
     "name": "stdout",
     "output_type": "stream",
     "text": [
      "\n",
      "\n",
      "\n",
      "\n",
      "  \n",
      "\n",
      "\n",
      "\n",
      "\n",
      "\n",
      "\n",
      "\n",
      "\n",
      "\n",
      "###[ IP ]### \n",
      "  version   = 4\n",
      "  ihl       = 5\n",
      "  tos       = 0x0\n",
      "  len       = 84\n",
      "  id        = 25911\n",
      "  flags     = \n",
      "  frag      = 0\n",
      "  ttl       = 109\n",
      "  proto     = icmp\n",
      "  chksum    = 0x8a90\n",
      "  src       = 8.8.8.8\n",
      "  dst       = 130.231.202.234\n",
      "  \\options   \\\n",
      "###[ ICMP ]### \n",
      "     type      = echo-reply\n",
      "     code      = 0\n",
      "     chksum    = 0xfefb\n",
      "     id        = 0x2\n",
      "     seq       = 0x102\n",
      "     unused    = ''\n",
      "\n"
     ]
    }
   ],
   "source": [
    "gen_pkts = [str_to_packet(response.choices[0].text) for response in responses]\n",
    "\n",
    "def delete_wrong_fields(pkt):\n",
    "\n",
    "    del pkt[IP].flags\n",
    "    del pkt[IP].chksum\n",
    "    del pkt[ICMP].chksum\n",
    "    \n",
    "    return pkt\n",
    "    \n",
    "gen_pkts = list(map(delete_wrong_fields,gen_pkts))\n",
    "gen_pkts[0].show2()\n",
    "\n",
    "with open(\"generated_icmp.pcap\", \"wb\") as f:\n",
    "    wrpcap(f, gen_pkts)\n"
   ]
  },
  {
   "cell_type": "code",
   "execution_count": 41,
   "id": "dcecce3f-980b-4e50-825d-a62a4738fc6d",
   "metadata": {},
   "outputs": [
    {
     "data": {
      "text/plain": [
       "100"
      ]
     },
     "execution_count": 41,
     "metadata": {},
     "output_type": "execute_result"
    }
   ],
   "source": [
    "len(gen_pkts)"
   ]
  },
  {
   "cell_type": "code",
   "execution_count": 24,
   "id": "fa6f6710-ee69-4d7e-b14b-af58a3c7493c",
   "metadata": {},
   "outputs": [
    {
     "name": "stdout",
     "output_type": "stream",
     "text": [
      "\n",
      "\n",
      "###[ IP ]###\n",
      "  version   = 4\n",
      "  ihl       = 5\n",
      "  tos       = 0x0\n",
      "  len       = 84\n",
      "  id        = 22238\n",
      "  flags     = DF\n",
      "  frag      = 0\n",
      "  ttl       = 64\n",
      "  proto     = icmp\n",
      "  chksum    = None\n",
      "  src       = 130.231.202.234\n",
      "  dst       = 8.8.8.8\n",
      "  \\options   \\\n",
      "###[ ICMP ]###\n",
      "     type      = echo-request\n",
      "     code      = 0\n",
      "     chksum    = None\n",
      "     id        = 0x2\n",
      "     seq       = 0xb2\n",
      "     unused    = ''\n"
     ]
    }
   ],
   "source": [
    "print(responses[0].choices[0].text)"
   ]
  },
  {
   "cell_type": "code",
   "execution_count": 173,
   "id": "2db5779f-0828-4cb1-ba8f-e39df0f53a97",
   "metadata": {},
   "outputs": [],
   "source": [
    "summary,packet = random.choice(packets)"
   ]
  },
  {
   "cell_type": "code",
   "execution_count": 42,
   "id": "9df0548d-97a5-486f-88e1-1660c32b6dbf",
   "metadata": {},
   "outputs": [
    {
     "data": {
      "text/plain": [
       "'76.76.2.0 → 130.231.202.234 ICMP 98 Echo (ping) reply id=0x0005, seq=37/9472, ttl=48 (request in 471)'"
      ]
     },
     "execution_count": 42,
     "metadata": {},
     "output_type": "execute_result"
    }
   ],
   "source": [
    "summary"
   ]
  },
  {
   "cell_type": "code",
   "execution_count": 160,
   "id": "bc47beb7-4b2d-4511-ab50-ac9fe09a1424",
   "metadata": {},
   "outputs": [
    {
     "name": "stdout",
     "output_type": "stream",
     "text": [
      "###[ Ethernet ]### \n",
      "  dst       = 84:a9:38:6a:7f:0d\n",
      "  src       = 70:db:98:81:93:40\n",
      "  type      = IPv4\n",
      "###[ IP ]### \n",
      "     version   = 4\n",
      "     ihl       = 5\n",
      "     tos       = 0x0\n",
      "     len       = 84\n",
      "     id        = 53490\n",
      "     flags     = \n",
      "     frag      = 0\n",
      "     ttl       = 53\n",
      "     proto     = icmp\n",
      "     chksum    = 0x54d3\n",
      "     src       = 9.9.9.9\n",
      "     dst       = 130.231.202.234\n",
      "     \\options   \\\n",
      "###[ ICMP ]### \n",
      "        type      = echo-reply\n",
      "        code      = 0\n",
      "        chksum    = 0x3c6\n",
      "        id        = 0x4\n",
      "        seq       = 0x101\n",
      "        unused    = ''\n",
      "###[ Raw ]### \n",
      "           load      = '\\\\xd5I\\\\x87c\\x00\\x00\\x00\\x00Ӵ\\x0c\\x00\\x00\\x00\\x00\\x00\\x10\\x11\\x12\\x13\\x14\\x15\\x16\\x17\\x18\\x19\\x1a\\x1b\\x1c\\x1d\\x1e\\x1f !\"#$%&\\'()*+,-./01234567'\n",
      "\n"
     ]
    }
   ],
   "source": [
    "packet.show()"
   ]
  },
  {
   "cell_type": "code",
   "execution_count": 156,
   "id": "2aeba976-e474-476b-97b7-38f8ad51ae55",
   "metadata": {},
   "outputs": [
    {
     "data": {
      "text/plain": [
       "True"
      ]
     },
     "execution_count": 156,
     "metadata": {},
     "output_type": "execute_result"
    }
   ],
   "source": [
    "type(gen_pkts[0][ICMP].unused) == type(packet[ICMP].unused)"
   ]
  },
  {
   "cell_type": "code",
   "execution_count": 167,
   "id": "3a285803-0fd9-40c3-a5a4-0eb4d45897e3",
   "metadata": {},
   "outputs": [
    {
     "data": {
      "text/plain": [
       "<Flag 0 ()>"
      ]
     },
     "execution_count": 167,
     "metadata": {},
     "output_type": "execute_result"
    }
   ],
   "source": [
    "gen_pkts[2][IP].flags"
   ]
  },
  {
   "cell_type": "code",
   "execution_count": 168,
   "id": "0e97102d-ae24-4c9d-bb55-96e796fee8a2",
   "metadata": {},
   "outputs": [
    {
     "data": {
      "text/plain": [
       "<Flag 0 ()>"
      ]
     },
     "execution_count": 168,
     "metadata": {},
     "output_type": "execute_result"
    }
   ],
   "source": [
    "packet[IP].flags"
   ]
  },
  {
   "cell_type": "code",
   "execution_count": 112,
   "id": "fb5c4ec5-795f-45aa-bb63-40e2ae485f3f",
   "metadata": {},
   "outputs": [
    {
     "name": "stdout",
     "output_type": "stream",
     "text": [
      "###[ IP ]### \n",
      "  version   = 4\n",
      "  ihl       = 5\n",
      "  tos       = 0x0\n",
      "  len       = 84\n",
      "  id        = 49001\n",
      "  flags     = DF\n",
      "  frag      = 0\n",
      "  ttl       = 64\n",
      "  proto     = icmp\n",
      "  chksum    = None\n",
      "  src       = 130.231.202.234\n",
      "  dst       = 8.8.8.8\n",
      "  \\options   \\\n",
      "###[ ICMP ]### \n",
      "     type      = echo-request\n",
      "     code      = 0\n",
      "     chksum    = None\n",
      "     id        = 0x2\n",
      "     seq       = 0xb8\n",
      "     unused    = ''\n",
      "\n"
     ]
    }
   ],
   "source": [
    "gen_pkts[0].show()"
   ]
  },
  {
   "cell_type": "code",
   "execution_count": 186,
   "id": "710b6ead-4c76-44f9-9a8c-c09f6cb5fad2",
   "metadata": {},
   "outputs": [
    {
     "name": "stdout",
     "output_type": "stream",
     "text": [
      "###[ IP ]### \n",
      "  version   = 4\n",
      "  ihl       = 5\n",
      "  tos       = 0x0\n",
      "  len       = 84\n",
      "  id        = 14963\n",
      "  flags     = \n",
      "  frag      = 0\n",
      "  ttl       = 49\n",
      "  proto     = icmp\n",
      "  chksum    = 0xfb5e\n",
      "  src       = 4.2.2.4\n",
      "  dst       = 130.231.202.234\n",
      "  \\options   \\\n",
      "###[ ICMP ]### \n",
      "     type      = echo-reply\n",
      "     code      = 0\n",
      "     chksum    = 0xf79f\n",
      "     id        = 0x3\n",
      "     seq       = 0x62\n",
      "     unused    = ''\n",
      "###[ Raw ]### \n",
      "        load      = '\"I\\\\x87c\\x00\\x00\\x00\\x00\\\\x96{\\t\\x00\\x00\\x00\\x00\\x00\\x10\\x11\\x12\\x13\\x14\\x15\\x16\\x17\\x18\\x19\\x1a\\x1b\\x1c\\x1d\\x1e\\x1f !\"#$%&\\'()*+,-./01234567'\n",
      "\n",
      "###[ IP ]### \n",
      "  version   = 4\n",
      "  ihl       = 5\n",
      "  tos       = 0x0\n",
      "  len       = 84\n",
      "  id        = 14963\n",
      "  flags     = DF\n",
      "  frag      = 0\n",
      "  ttl       = 49\n",
      "  proto     = icmp\n",
      "  chksum    = None\n",
      "  src       = 4.2.2.4\n",
      "  dst       = 130.231.202.234\n",
      "  \\options   \\\n",
      "###[ ICMP ]### \n",
      "     type      = echo-reply\n",
      "     code      = 0\n",
      "     chksum    = None\n",
      "     id        = 0x3\n",
      "     seq       = 0x62\n",
      "     unused    = ''\n",
      "\n"
     ]
    }
   ],
   "source": [
    "summary,packet2 = random.choice(packets)\n",
    "packet2[IP].show()\n",
    "packet2[IP].flags = \"DF\"\n",
    "del packet2[Raw]\n",
    "del packet2[IP].chksum\n",
    "del packet2[ICMP].chksum\n",
    "packet2[IP].show()\n"
   ]
  },
  {
   "cell_type": "code",
   "execution_count": 184,
   "id": "9be5ef9e-128c-4365-afbf-42309a3b569a",
   "metadata": {},
   "outputs": [
    {
     "data": {
      "text/plain": [
       "<Flag 2 (DF)>"
      ]
     },
     "execution_count": 184,
     "metadata": {},
     "output_type": "execute_result"
    }
   ],
   "source": [
    "packet2[IP].flags"
   ]
  },
  {
   "cell_type": "code",
   "execution_count": 187,
   "id": "4f168f43-9f3d-4a65-bf09-75095bf503d4",
   "metadata": {},
   "outputs": [],
   "source": [
    "with open(\"generated_icmp.pcap\", \"wb\") as f:\n",
    "    wrpcap(f, packet2)\n"
   ]
  },
  {
   "cell_type": "code",
   "execution_count": null,
   "id": "2239c851-66eb-4d61-904d-7a70fadb3fb3",
   "metadata": {},
   "outputs": [],
   "source": []
  }
 ],
 "metadata": {
  "kernelspec": {
   "display_name": "Python 3 (ipykernel)",
   "language": "python",
   "name": "python3"
  },
  "language_info": {
   "codemirror_mode": {
    "name": "ipython",
    "version": 3
   },
   "file_extension": ".py",
   "mimetype": "text/x-python",
   "name": "python",
   "nbconvert_exporter": "python",
   "pygments_lexer": "ipython3",
   "version": "3.11.5"
  }
 },
 "nbformat": 4,
 "nbformat_minor": 5
}
