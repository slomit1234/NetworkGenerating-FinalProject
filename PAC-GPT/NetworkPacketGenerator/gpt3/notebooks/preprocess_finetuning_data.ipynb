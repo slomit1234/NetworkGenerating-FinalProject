{
 "cells": [
  {
   "cell_type": "code",
   "execution_count": 1,
   "id": "0ba31d09-0b4a-4297-8b85-485d82901993",
   "metadata": {},
   "outputs": [],
   "source": [
    "import pickle\n",
    "import json\n",
    "import csv"
   ]
  },
  {
   "cell_type": "code",
   "execution_count": 2,
   "id": "682a2c0c-a65e-4a9c-91e6-3c84e3022c15",
   "metadata": {},
   "outputs": [],
   "source": [
    "responses = pickle.load( open(\"../data/pickle/davinci_pairs2.pkl\", \"rb\" ))\n"
   ]
  },
  {
   "cell_type": "code",
   "execution_count": 3,
   "id": "125078c9-c104-4e00-a4b8-4feccb0eecbb",
   "metadata": {},
   "outputs": [
    {
     "data": {
      "text/plain": [
       "<OpenAIObject text_completion id=cmpl-6oqdZkXJZj4oXycbtlpbzYMv4Jzfz at 0x7f47615e53a0> JSON: {\n",
       "  \"choices\": [\n",
       "    {\n",
       "      \"finish_reason\": \"stop\",\n",
       "      \"index\": 0,\n",
       "      \"logprobs\": null,\n",
       "      \"text\": \"\\n\\npkt_list = [scapy.IP(src=\\\"192.168.1.192\\\", dst=\\\"192.168.1.190\\\")/scapy.ICMP(type=8, id=0x112d, seq=5619),\\n            scapy.IP(src=\\\"192.168.1.194\\\", dst=\\\"192.168.1.190\\\")/scapy.ICMP(type=8, id=0x9015, seq=19673),\\n            scapy.IP(src=\\\"192.168.1.194\\\", dst=\\\"192.168.1.190\\\")/scapy.ICMP(type=8, id=0x9015, seq=18836),\\n            scapy.IP(src=\\\"192.168.1.190\\\", dst=\\\"192.168.1.193\\\")/scapy.ICMP(type=0, id=0x0001, seq=4886),\\n            scapy.IP(src=\\\"192.168.1.190\\\", dst=\\\"192.168.1.193\\\")/scapy.ICMP(type=0, id=0x0001, seq=4305)]\"\n",
       "    }\n",
       "  ],\n",
       "  \"created\": 1677576757,\n",
       "  \"id\": \"cmpl-6oqdZkXJZj4oXycbtlpbzYMv4Jzfz\",\n",
       "  \"model\": \"text-davinci-003\",\n",
       "  \"object\": \"text_completion\",\n",
       "  \"prompt_summary\": \"192.168.1.192 \\u2192 192.168.1.190 ICMP 100 Echo (ping) request id=0x112d, seq=5619\\n192.168.1.194 \\u2192 192.168.1.190 ICMP 100 Echo (ping) request id=0x9015, seq=19673\\n192.168.1.194 \\u2192 192.168.1.190 ICMP 100 Echo (ping) request id=0x9015, seq=18836\\n192.168.1.190 \\u2192 192.168.1.193 ICMP 76 Echo (ping) reply id=0x0001, seq=4886\\n192.168.1.190 \\u2192 192.168.1.193 ICMP 76 Echo (ping) reply id=0x0001, seq=4305\\n\",\n",
       "  \"usage\": {\n",
       "    \"completion_tokens\": 254,\n",
       "    \"prompt_tokens\": 519,\n",
       "    \"total_tokens\": 773\n",
       "  }\n",
       "}"
      ]
     },
     "execution_count": 3,
     "metadata": {},
     "output_type": "execute_result"
    }
   ],
   "source": [
    "responses[0]"
   ]
  },
  {
   "cell_type": "code",
   "execution_count": 4,
   "id": "51c754dd-fb1c-45b3-a185-eea6b24756ca",
   "metadata": {},
   "outputs": [],
   "source": [
    "data = []\n",
    "\n",
    "for item in responses:\n",
    "    data.append({\"prompt\":item[\"prompt_summary\"],\"completion\":item[\"choices\"][0][\"text\"]})\n",
    "    data[-1][\"prompt\"] += \"\\n###\\n\\n\"\n",
    "    #data[-1][\"completion\"] = \"\\n\" + data[-1][\"completion\"]\n",
    "    data[-1][\"completion\"] += \"\\n\\n###\""
   ]
  },
  {
   "cell_type": "code",
   "execution_count": 5,
   "id": "8aea2234-9721-480d-b793-173fe28ddf7e",
   "metadata": {},
   "outputs": [
    {
     "data": {
      "text/plain": [
       "{'prompt': '192.168.1.192 → 192.168.1.190 ICMP 100 Echo (ping) request id=0x112d, seq=5619\\n192.168.1.194 → 192.168.1.190 ICMP 100 Echo (ping) request id=0x9015, seq=19673\\n192.168.1.194 → 192.168.1.190 ICMP 100 Echo (ping) request id=0x9015, seq=18836\\n192.168.1.190 → 192.168.1.193 ICMP 76 Echo (ping) reply id=0x0001, seq=4886\\n192.168.1.190 → 192.168.1.193 ICMP 76 Echo (ping) reply id=0x0001, seq=4305\\n\\n###\\n\\n',\n",
       " 'completion': '\\n\\npkt_list = [scapy.IP(src=\"192.168.1.192\", dst=\"192.168.1.190\")/scapy.ICMP(type=8, id=0x112d, seq=5619),\\n            scapy.IP(src=\"192.168.1.194\", dst=\"192.168.1.190\")/scapy.ICMP(type=8, id=0x9015, seq=19673),\\n            scapy.IP(src=\"192.168.1.194\", dst=\"192.168.1.190\")/scapy.ICMP(type=8, id=0x9015, seq=18836),\\n            scapy.IP(src=\"192.168.1.190\", dst=\"192.168.1.193\")/scapy.ICMP(type=0, id=0x0001, seq=4886),\\n            scapy.IP(src=\"192.168.1.190\", dst=\"192.168.1.193\")/scapy.ICMP(type=0, id=0x0001, seq=4305)]\\n\\n###'}"
      ]
     },
     "execution_count": 5,
     "metadata": {},
     "output_type": "execute_result"
    }
   ],
   "source": [
    "data[0]"
   ]
  },
  {
   "cell_type": "code",
   "execution_count": 11,
   "id": "01c5b92e-5e2b-4e88-a793-bcb296abb8a3",
   "metadata": {},
   "outputs": [],
   "source": [
    "with open('../data/json/davinci_pairs.json', 'w') as fp:\n",
    "    json.dump(data, fp)"
   ]
  },
  {
   "cell_type": "code",
   "execution_count": 6,
   "id": "92ef6ec9-b98b-4f73-a103-d45dd21533e2",
   "metadata": {},
   "outputs": [],
   "source": [
    "with open('../data/csv/davinci_pairs.csv', 'w') as csvfile:\n",
    "    writer = csv.DictWriter(csvfile, fieldnames=[\"prompt\",\"completion\"])\n",
    "    writer.writeheader()\n",
    "    for row in data:\n",
    "        writer.writerow(row)"
   ]
  },
  {
   "cell_type": "code",
   "execution_count": null,
   "id": "72b878cd-660a-4655-9e7d-793854568cf2",
   "metadata": {},
   "outputs": [],
   "source": []
  }
 ],
 "metadata": {
  "kernelspec": {
   "display_name": "Python 3 (ipykernel)",
   "language": "python",
   "name": "python3"
  },
  "language_info": {
   "codemirror_mode": {
    "name": "ipython",
    "version": 3
   },
   "file_extension": ".py",
   "mimetype": "text/x-python",
   "name": "python",
   "nbconvert_exporter": "python",
   "pygments_lexer": "ipython3",
   "version": "3.10.6"
  }
 },
 "nbformat": 4,
 "nbformat_minor": 5
}
