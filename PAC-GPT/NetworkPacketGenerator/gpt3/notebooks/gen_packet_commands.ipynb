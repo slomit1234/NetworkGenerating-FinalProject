{
 "cells": [
  {
   "cell_type": "code",
   "execution_count": 1,
   "id": "d8ab9384-bfd6-4e54-be3a-3bbb87fc4360",
   "metadata": {},
   "outputs": [],
   "source": [
    "import random\n",
    "import re\n",
    "\n",
    "import openai\n",
    "\n",
    "from scapy.all import Raw\n",
    "from scapy.utils import RawPcapReader, wrpcap\n",
    "\n",
    "from scapy.layers.l2 import Ether\n",
    "from scapy.layers.inet import IP, TCP, ICMP"
   ]
  },
  {
   "cell_type": "code",
   "execution_count": 13,
   "id": "13c8bff7-218b-4916-8e91-663ddedddf8e",
   "metadata": {},
   "outputs": [],
   "source": [
    "request_num = 1\n",
    "packets_per_request = 10"
   ]
  },
  {
   "cell_type": "code",
   "execution_count": 24,
   "id": "46f766e4-a85a-44f8-8d70-d10e4e3794bc",
   "metadata": {},
   "outputs": [],
   "source": [
    "with open(\"dns_summaries.txt\",\"r\") as f:\n",
    "    packets_summary = f.read().splitlines()"
   ]
  },
  {
   "cell_type": "code",
   "execution_count": 25,
   "id": "d69ba537-d564-4e77-9ff0-371700f15130",
   "metadata": {},
   "outputs": [
    {
     "data": {
      "text/plain": [
       "526"
      ]
     },
     "execution_count": 25,
     "metadata": {},
     "output_type": "execute_result"
    }
   ],
   "source": [
    "len(packets_summary)"
   ]
  },
  {
   "cell_type": "code",
   "execution_count": 26,
   "id": "78f7dd84-bc5e-430a-b760-bb0cda6bb733",
   "metadata": {},
   "outputs": [],
   "source": [
    "engines = openai.Engine.list()"
   ]
  },
  {
   "cell_type": "code",
   "execution_count": 30,
   "id": "0f9964e5-74ee-4668-8295-91bd4b9120b2",
   "metadata": {},
   "outputs": [
    {
     "name": "stdout",
     "output_type": "stream",
     "text": [
      "These are the packet summaries:\n",
      "130.231.240.70 → 130.231.202.234 DNS 207 Standard query response 0xea13 A steamstore-a.akamaihd.net CNAME steamstore-a.akamaihd.net.edgesuite.net CNAME a1737.b.akamai.net A 193.166.4.71 A 193.166.4.70 OPT\n",
      "130.231.202.234 → 130.231.240.70 DNS 100 Standard query 0x3c0b A pagead2.googlesyndication.com OPT\n",
      "130.231.202.234 → 208.67.222.222 DNS 99 Standard query 0x3ff6 A myip.opendns.com OPT\n",
      "130.231.240.70 → 130.231.202.234 DNS 112 Standard query response 0x01e4 A ext2-fra1.steamserver.net A 162.254.197.54 OPT\n",
      "130.231.240.70 → 130.231.202.234 DNS 137 Standard query response 0xca23 No such name A usage.fdown.net SOA brad.ns.cloudflare.com\n",
      "130.231.240.70 → 130.231.202.234 DNS 149 Standard query response 0xb6b8 No such name A sstats.fdown.net SOA brad.ns.cloudflare.com OPT\n",
      "130.231.240.70 → 130.231.202.234 DNS 149 Standard query response 0xc56c No such name A sstats.fdown.net.oulu.fi SOA ousrvr.oulu.fi OPT\n",
      "130.231.240.70 → 130.231.202.234 DNS 148 Standard query response 0x450e No such name A stats.fdown.net.oulu.fi SOA ousrvr.oulu.fi OPT\n",
      "130.231.202.234 → 130.231.240.70 DNS 95 Standard query 0xa85b A sstats.fdown.net.oulu.fi OPT\n",
      "208.67.222.222 → 130.231.202.234 DNS 103 Standard query response 0x1287 A myip.opendns.com A 130.231.202.234 OPT\n",
      "\n",
      "Generate python code for creating these packets with Scapy framework and put them all in a list named pkt_list. (Specify both src and dst fields when creating packets.)\n"
     ]
    }
   ],
   "source": [
    "responses = []\n",
    "for i in range(request_num):\n",
    "    summaries = random.choices(packets_summary,k=packets_per_request)\n",
    "    query = \"These are the packet summaries:\\n\"\n",
    "    for summary in summaries:\n",
    "        query += summary + \"\\n\"\n",
    "    \n",
    "    query += \"\\nGenerate python code for creating these packets with Scapy framework and put them all in a list named pkt_list. (Specify both src and dst fields when creating packets.)\"\n",
    "    \n",
    "    print(query)\n",
    "    #break\n",
    "    \n",
    "    completion = openai.Completion.create(engine=\"text-davinci-003\", prompt=query,max_tokens=2600)\n",
    "    completion[\"prompt_summary\"] = summary\n",
    "    responses.append(completion)\n"
   ]
  },
  {
   "cell_type": "code",
   "execution_count": 31,
   "id": "d004a45f-5246-4b57-8731-ad5fed659106",
   "metadata": {
    "tags": []
   },
   "outputs": [
    {
     "name": "stdout",
     "output_type": "stream",
     "text": [
      "\n",
      "\n",
      "pkt_list = [\n",
      "  scapy.IP(src=\"130.231.240.70\", dst=\"130.231.202.234\")/scapy.DNS(id=0xea13, qr=1, qd=scapy.DNSQR(qname=\"steamstore-a.akamaihd.net\"), an=scapy.DNSRR(rrname=\"steamstore-a.akamaihd.net.edgesuite.net\", type=\"CNAME\", rdata=\"a1737.b.akamai.net\"), ar=scapy.DNSRR(rrname=\"a1737.b.akamai.net\", type=\"A\", rdata=\"193.166.4.71\")/scapy.DNSRR(rrname=\"a1737.b.akamai.net\", type=\"A\", rdata=\"193.166.4.70\")/scapy.DNSOPT(options=[scapy.DNSOPTRR()]),\n",
      "  scapy.IP(src=\"130.231.202.234\", dst=\"130.231.240.70\")/scapy.DNS(id=0x3c0b, qd=scapy.DNSQR(qname=\"pagead2.googlesyndication.com\"), ar=scapy.DNSRR(optdata=scapy.DNSOPT()), qr=0), \n",
      "  scapy.IP(src=\"130.231.202.234\", dst=\"208.67.222.222\")/scapy.DNS(id=0x3ff6, qd=scapy.DNSQR(qname=\"myip.opendns.com\"), ar=scapy.DNSRR(optdata=scapy.DNSOPT()), qr=0),\n",
      "  scapy.IP(src=\"130.231.240.70\", dst=\"130.231.202.234\")/scapy.DNS(id=0x01e4, qr=1, qd=scapy.DNSQR(qname=\"ext2-fra1.steamserver.net\"), an=scapy.DNSRR(rrname=\"ext2-fra1.steamserver.net\", type=\"A\", rdata=\"162.254.197.54\")/scapy.DNSRR(optdata=scapy.DNSOPT()),\n",
      "  scapy.IP(src=\"130.231.240.70\", dst=\"130.231.202.234\")/scapy.DNS(id=0xca23, qr=1, qd=scapy.DNSQR(qname=\"usage.fdown.net\"), an=scapy.DNSRR(rrname=\"usage.fdown.net\", type=\"SOA\", rdata=\"brad.ns.cloudflare.com\"), qr=0),\n",
      "  scapy.IP(src=\"130.231.240.70\", dst=\"130.231.202.234\")/scapy.DNS(id=0xb6b8, qr=1, qd=scapy.DNSQR(qname=\"sstats.fdown.net\"), an=scapy.DNSRR(rrname=\"sstats.fdown.net\", type=\"SOA\", rdata=\"brad.ns.cloudflare.com\"), qr=0)/scapy.DNSRR(optdata=scapy.DNSOPT()),\n",
      "  scapy.IP(src=\"130.231.240.70\", dst=\"130.231.202.234\")/scapy.DNS(id=0xc56c, qr=1, qd=scapy.DNSQR(qname=\"sstats.fdown.net.oulu.fi\"), an=scapy.DNSRR(rrname=\"sstats.fdown.net.oulu.fi\", type=\"SOA\", rdata=\"ousrvr.oulu.fi\"), qr=0)/scapy.DNSRR(optdata=scapy.DNSOPT()),\n",
      "  scapy.IP(src=\"130.231.240.70\", dst=\"130.231.202.234\")/scapy.DNS(id=0x450e, qr=1, qd=scapy.DNSQR(qname=\"stats.fdown.net.oulu.fi\"), an=scapy.DNSRR(rrname=\"stats.fdown.net.oulu.fi\", type=\"SOA\", rdata=\"ousrvr.oulu.fi\"), qr=0)/scapy.DNSRR(optdata=scapy.DNSOPT()),\n",
      "  scapy.IP(src=\"130.231.202.234\", dst=\"130.231.240.70\")/scapy.DNS(id=0xa85b, qd=scapy.DNSQR(qname=\"sstats.fdown.net.oulu.fi\"), ar=scapy.DNSRR(optdata=scapy.DNSOPT()), qr=0),\n",
      "  scapy.IP(src=\"208.67.222.222\", dst=\"130.231.202.234\")/scapy.DNS(id=0x1287, qr=1, qd=scapy.DNSQR(qname=\"myip.opendns.com\"), an=scapy.DNSRR(rrname=\"myip.opendns.com\", type=\"A\", rdata=\"130.231.202.234\")/scapy.DNSRR(optdata=scapy.DNSOPT())\n",
      "]\n"
     ]
    }
   ],
   "source": [
    "print(responses[0].choices[0].text)"
   ]
  },
  {
   "cell_type": "code",
   "execution_count": 7,
   "id": "5598da7c-1d8f-448d-8b3c-491ea272292d",
   "metadata": {
    "tags": []
   },
   "outputs": [
    {
     "name": "stdout",
     "output_type": "stream",
     "text": [
      "\n",
      "\n",
      "import scapy.all as scapy\n",
      "pkt_list = []\n",
      "      \n",
      "# Echo (ping) request 1\n",
      "pkt1 = scapy.IP(dst=\"8.8.8.8\")/scapy.ICMP(type=\"echo-request\", id=0x0002, seq=125)\n",
      "pkt_list.append(pkt1)\n",
      "\n",
      "# Echo (ping) request 2\n",
      "pkt2 = scapy.IP(dst=\"8.8.8.8\")/scapy.ICMP(type=\"echo-request\", id=0x0002, seq=147)\n",
      "pkt_list.append(pkt2)\n",
      "\n",
      "# Echo (ping) request 3\n",
      "pkt3 = scapy.IP(dst=\"8.8.8.8\")/scapy.ICMP(type=\"echo-request\", id=0x0002, seq=186)\n",
      "pkt_list.append(pkt3)\n",
      "\n",
      "#Echo (ping) request 4\n",
      "pkt4 = scapy.IP(dst=\"8.8.8.8\")/scapy.ICMP(type=\"echo-request\", id=0x0002, seq=188)\n",
      "pkt_list.append(pkt4)\n",
      "\n",
      "#Echo (ping) reply 1\n",
      "pkt5 = scapy.IP(src=\"8.8.8.8\")/scapy.ICMP(type=\"echo-reply\", id=0x0002, seq=199)\n",
      "pkt_list.append(pkt5)\n",
      "\n",
      "#Echo (ping) request 5\n",
      "pkt6 = scapy.IP(dst=\"9.9.9.9\")/scapy.ICMP(type=\"echo-request\", id=0x0004, seq=230)\n",
      "pkt_list.append(pkt6)\n",
      "\n",
      "# Echo (ping) reply 2\n",
      "pkt7 = scapy.IP(src=\"9.9.9.9\")/scapy.ICMP(type=\"echo-reply\", id=0x0004, seq=1)\n",
      "pkt_list.append(pkt7)\n",
      "\n",
      "# Echo (ping) reply 3\n",
      "pkt8 = scapy.IP(src=\"8.8.8.8\")/scapy.ICMP(type=\"echo-reply\", id=0x0002, seq=101)\n",
      "pkt_list.append(pkt8)\n"
     ]
    }
   ],
   "source": [
    "print(responses[0].choices[0].text)"
   ]
  },
  {
   "cell_type": "code",
   "execution_count": 33,
   "id": "2662dbbb-e389-45fc-b884-058966356961",
   "metadata": {},
   "outputs": [
    {
     "name": "stdout",
     "output_type": "stream",
     "text": [
      "\n",
      "\n",
      "pkt_list = [\n",
      "  scapy.IP(src=\"130.231.240.70\", dst=\"130.231.202.234\")/scapy.DNS(id=0xea13, qr=1, qd=scapy.DNSQR(qname=\"steamstore-a.akamaihd.net\"), an=scapy.DNSRR(rrname=\"steamstore-a.akamaihd.net.edgesuite.net\", type=\"CNAME\", rdata=\"a1737.b.akamai.net\"), ar=scapy.DNSRR(rrname=\"a1737.b.akamai.net\", type=\"A\", rdata=\"193.166.4.71\")/scapy.DNSRR(rrname=\"a1737.b.akamai.net\", type=\"A\", rdata=\"193.166.4.70\")/scapy.DNSOPT(options=[scapy.DNSOPTRR()]),\n",
      "  scapy.IP(src=\"130.231.202.234\", dst=\"130.231.240.70\")/scapy.DNS(id=0x3c0b, qd=scapy.DNSQR(qname=\"pagead2.googlesyndication.com\"), ar=scapy.DNSRR(optdata=scapy.DNSOPT()), qr=0), \n",
      "  scapy.IP(src=\"130.231.202.234\", dst=\"208.67.222.222\")/scapy.DNS(id=0x3ff6, qd=scapy.DNSQR(qname=\"myip.opendns.com\"), ar=scapy.DNSRR(optdata=scapy.DNSOPT()), qr=0),\n",
      "  scapy.IP(src=\"130.231.240.70\", dst=\"130.231.202.234\")/scapy.DNS(id=0x01e4, qr=1, qd=scapy.DNSQR(qname=\"ext2-fra1.steamserver.net\"), an=scapy.DNSRR(rrname=\"ext2-fra1.steamserver.net\", type=\"A\", rdata=\"162.254.197.54\")/scapy.DNSRR(optdata=scapy.DNSOPT()),\n",
      "  scapy.IP(src=\"130.231.240.70\", dst=\"130.231.202.234\")/scapy.DNS(id=0xca23, qr=1, qd=scapy.DNSQR(qname=\"usage.fdown.net\"), an=scapy.DNSRR(rrname=\"usage.fdown.net\", type=\"SOA\", rdata=\"brad.ns.cloudflare.com\"), qr=0),\n",
      "  scapy.IP(src=\"130.231.240.70\", dst=\"130.231.202.234\")/scapy.DNS(id=0xb6b8, qr=1, qd=scapy.DNSQR(qname=\"sstats.fdown.net\"), an=scapy.DNSRR(rrname=\"sstats.fdown.net\", type=\"SOA\", rdata=\"brad.ns.cloudflare.com\"), qr=0)/scapy.DNSRR(optdata=scapy.DNSOPT()),\n",
      "  scapy.IP(src=\"130.231.240.70\", dst=\"130.231.202.234\")/scapy.DNS(id=0xc56c, qr=1, qd=scapy.DNSQR(qname=\"sstats.fdown.net.oulu.fi\"), an=scapy.DNSRR(rrname=\"sstats.fdown.net.oulu.fi\", type=\"SOA\", rdata=\"ousrvr.oulu.fi\"), qr=0)/scapy.DNSRR(optdata=scapy.DNSOPT()),\n",
      "  scapy.IP(src=\"130.231.240.70\", dst=\"130.231.202.234\")/scapy.DNS(id=0x450e, qr=1, qd=scapy.DNSQR(qname=\"stats.fdown.net.oulu.fi\"), an=scapy.DNSRR(rrname=\"stats.fdown.net.oulu.fi\", type=\"SOA\", rdata=\"ousrvr.oulu.fi\"), qr=0)/scapy.DNSRR(optdata=scapy.DNSOPT()),\n",
      "  scapy.IP(src=\"130.231.202.234\", dst=\"130.231.240.70\")/scapy.DNS(id=0xa85b, qd=scapy.DNSQR(qname=\"sstats.fdown.net.oulu.fi\"), ar=scapy.DNSRR(optdata=scapy.DNSOPT()), qr=0),\n",
      "  scapy.IP(src=\"208.67.222.222\", dst=\"130.231.202.234\")/scapy.DNS(id=0x1287, qr=1, qd=scapy.DNSQR(qname=\"myip.opendns.com\"), an=scapy.DNSRR(rrname=\"myip.opendns.com\", type=\"A\", rdata=\"130.231.202.234\")/scapy.DNSRR(optdata=scapy.DNSOPT())\n",
      "]\n"
     ]
    }
   ],
   "source": [
    "print(responses[0].choices[0].text)"
   ]
  },
  {
   "cell_type": "code",
   "execution_count": 32,
   "id": "bd8bb17f-6a7b-4520-90b2-9d3a55737eac",
   "metadata": {},
   "outputs": [
    {
     "ename": "SyntaxError",
     "evalue": "closing parenthesis ']' does not match opening parenthesis '(' on line 13 (<string>, line 14)",
     "output_type": "error",
     "traceback": [
      "Traceback \u001b[0;36m(most recent call last)\u001b[0m:\n",
      "  File \u001b[1;32m~/.local/lib/python3.10/site-packages/IPython/core/interactiveshell.py:3398\u001b[0m in \u001b[1;35mrun_code\u001b[0m\n    exec(code_obj, self.user_global_ns, self.user_ns)\n",
      "\u001b[0;36m  Input \u001b[0;32mIn [32]\u001b[0;36m in \u001b[0;35m<cell line: 1>\u001b[0;36m\u001b[0m\n\u001b[0;31m    exec(responses[0].choices[0].text)\u001b[0m\n",
      "\u001b[0;36m  File \u001b[0;32m<string>:14\u001b[0;36m\u001b[0m\n\u001b[0;31m    ]\u001b[0m\n\u001b[0m    ^\u001b[0m\n\u001b[0;31mSyntaxError\u001b[0m\u001b[0;31m:\u001b[0m closing parenthesis ']' does not match opening parenthesis '(' on line 13\n"
     ]
    }
   ],
   "source": [
    "exec(responses[0].choices[0].text)"
   ]
  },
  {
   "cell_type": "code",
   "execution_count": 21,
   "id": "824e7b61-35c8-4cb0-8d3f-34adbf1d89f2",
   "metadata": {},
   "outputs": [
    {
     "data": {
      "text/plain": [
       "[<IP  frag=0 proto=icmp src=76.76.2.0 dst=130.231.202.234 |<ICMP  type=echo-reply id=0x5 seq=0x5d |>>,\n",
       " <IP  frag=0 proto=icmp src=76.76.2.0 dst=130.231.202.234 |<ICMP  type=echo-reply id=0x5 seq=0xc |>>,\n",
       " <IP  frag=0 proto=icmp src=130.231.202.234 dst=9.9.9.9 |<ICMP  type=echo-request id=0x4 seq=0x1f |>>,\n",
       " <IP  frag=0 proto=icmp src=4.2.2.4 dst=130.231.202.234 |<ICMP  type=echo-reply id=0x3 seq=0x8e |>>,\n",
       " <IP  frag=0 proto=icmp src=130.231.202.234 dst=4.2.2.4 |<ICMP  type=echo-request id=0x3 seq=0x53 |>>,\n",
       " <IP  frag=0 proto=icmp src=130.231.202.234 dst=4.2.2.4 |<ICMP  type=echo-request id=0x3 seq=0x82 |>>,\n",
       " <IP  frag=0 proto=icmp src=8.8.8.8 dst=130.231.202.234 |<ICMP  type=echo-reply id=0x2 seq=0x7c |>>,\n",
       " <IP  frag=0 proto=icmp src=8.8.8.8 dst=130.231.202.234 |<ICMP  type=echo-reply id=0x2 seq=0x115 |>>,\n",
       " <IP  frag=0 proto=icmp src=9.9.9.9 dst=130.231.202.234 |<ICMP  type=echo-reply id=0x4 seq=0x60 |>>,\n",
       " <IP  frag=0 proto=icmp src=8.8.8.8 dst=130.231.202.234 |<ICMP  type=echo-reply id=0x2 seq=0x10e |>>]"
      ]
     },
     "execution_count": 21,
     "metadata": {},
     "output_type": "execute_result"
    }
   ],
   "source": [
    "pkt_list"
   ]
  },
  {
   "cell_type": "code",
   "execution_count": 22,
   "id": "28a07f8f-1ee7-4ea0-9fb1-88c28bdb8c8f",
   "metadata": {},
   "outputs": [],
   "source": [
    "with open(\"generated_icmp_commands.pcap\", \"wb\") as f:\n",
    "    wrpcap(f, pkt_list)"
   ]
  },
  {
   "cell_type": "code",
   "execution_count": 34,
   "id": "a8006891-aa4c-4dbd-8296-a71ba49f4ed6",
   "metadata": {},
   "outputs": [
    {
     "ename": "SyntaxError",
     "evalue": "incomplete input (501196326.py, line 1)",
     "output_type": "error",
     "traceback": [
      "\u001b[0;36m  Input \u001b[0;32mIn [34]\u001b[0;36m\u001b[0m\n\u001b[0;31m    pkt = scapy.IP(src=\"208.67.222.222\", dst=\"130.231.202.234\")/scapy.DNS(id=0x1287, qr=1, qd=scapy.DNSQR(qname=\"myip.opendns.com\"), an=scapy.DNSRR(rrname=\"myip.opendns.com\", type=\"A\", rdata=\"130.231.202.234\")/scapy.DNSOPT(options=[scapy.DNSOPTRR()])\u001b[0m\n\u001b[0m                                                                                                                                                                                                                                                          ^\u001b[0m\n\u001b[0;31mSyntaxError\u001b[0m\u001b[0;31m:\u001b[0m incomplete input\n"
     ]
    }
   ],
   "source": [
    "pkt = scapy.IP(src=\"208.67.222.222\", dst=\"130.231.202.234\")/scapy.DNS(id=0x1287, qr=1, qd=scapy.DNSQR(qname=\"myip.opendns.com\"), an=scapy.DNSRR(rrname=\"myip.opendns.com\", type=\"A\", rdata=\"130.231.202.234\")/scapy.DNSOPT(options=[scapy.DNSOPTRR()])"
   ]
  },
  {
   "cell_type": "code",
   "execution_count": null,
   "id": "21a0bc16-9c1d-43f2-8380-23060cb8b6c9",
   "metadata": {},
   "outputs": [],
   "source": []
  }
 ],
 "metadata": {
  "kernelspec": {
   "display_name": "Python 3 (ipykernel)",
   "language": "python",
   "name": "python3"
  },
  "language_info": {
   "codemirror_mode": {
    "name": "ipython",
    "version": 3
   },
   "file_extension": ".py",
   "mimetype": "text/x-python",
   "name": "python",
   "nbconvert_exporter": "python",
   "pygments_lexer": "ipython3",
   "version": "3.11.5"
  }
 },
 "nbformat": 4,
 "nbformat_minor": 5
}
