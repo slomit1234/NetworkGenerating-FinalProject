{
 "cells": [
  {
   "cell_type": "markdown",
   "id": "5e230f6b",
   "metadata": {},
   "source": [
    "# Gen_Packet_Commands\n",
    "\n",
    "this program have 2 purposes:\n",
    "\n",
    "1. if the user asked to generate DNS traffic, the \"DNS_Summerirs.txt\" will be sent to \"gpt-3.5-turbo-instruct\" with an instructoin (\"query\") to make a program (using scapy) that will output a pcap of DNS data.\n",
    "\n",
    "2. datasets/external file:\n",
    "    generated_icmp_commands.pcap -> write the syntetic DNS traffic into a pcap\n",
    "    \n",
    "    dns_summaries.txt -> text presentation of the DNS record, sent to the model as part of the query.\n",
    "    \n",
    "3. our work\n",
    "    *Update the code to the newer openai api version (=>1.1.0)\n",
    "   *Changed the model to  gpt-3.5-turbo-instruct (babbage, davinci legacy)\n",
    "\n",
    "4. Questions\n",
    "    At the end of the code, there are some steps we did not understood, all written as note at code.\n",
    "    We didnt find anything that compared the syntatic and authentic DNS queries at all on this code."
   ]
  },
  {
   "cell_type": "code",
   "execution_count": 1,
   "id": "d8ab9384-bfd6-4e54-be3a-3bbb87fc4360",
   "metadata": {},
   "outputs": [],
   "source": [
    "import random\n",
    "import re\n",
    "import os\n",
    "\n",
    "from openai import OpenAI\n",
    "\n",
    "from scapy.all import Raw\n",
    "from scapy.utils import RawPcapReader, wrpcap\n",
    "\n",
    "from scapy.layers.l2 import Ether\n",
    "from scapy.layers.inet import IP, TCP, UDP, ICMP\n",
    "from scapy.all import DNS, DNSQR"
   ]
  },
  {
   "cell_type": "code",
   "execution_count": 2,
   "id": "13c8bff7-218b-4916-8e91-663ddedddf8e",
   "metadata": {},
   "outputs": [],
   "source": [
    "request_num = 1\n",
    "packets_per_request = 10"
   ]
  },
  {
   "cell_type": "code",
   "execution_count": 3,
   "id": "46f766e4-a85a-44f8-8d70-d10e4e3794bc",
   "metadata": {},
   "outputs": [],
   "source": [
    "with open(\"dns_summaries.txt\",\"r\") as f:\n",
    "    packets_summary = f.read().splitlines()"
   ]
  },
  {
   "cell_type": "code",
   "execution_count": 4,
   "id": "d69ba537-d564-4e77-9ff0-371700f15130",
   "metadata": {},
   "outputs": [
    {
     "data": {
      "text/plain": [
       "526"
      ]
     },
     "execution_count": 4,
     "metadata": {},
     "output_type": "execute_result"
    }
   ],
   "source": [
    "len(packets_summary)"
   ]
  },
  {
   "cell_type": "code",
   "execution_count": 12,
   "id": "78f7dd84-bc5e-430a-b760-bb0cda6bb733",
   "metadata": {
    "scrolled": true
   },
   "outputs": [
    {
     "ename": "NameError",
     "evalue": "name 'client' is not defined",
     "output_type": "error",
     "traceback": [
      "\u001b[1;31m---------------------------------------------------------------------------\u001b[0m",
      "\u001b[1;31mNameError\u001b[0m                                 Traceback (most recent call last)",
      "Cell \u001b[1;32mIn[12], line 8\u001b[0m\n\u001b[0;32m      6\u001b[0m os\u001b[38;5;241m.\u001b[39menviron[\u001b[38;5;124m'\u001b[39m\u001b[38;5;124mOPENAI_API_KEY\u001b[39m\u001b[38;5;124m'\u001b[39m] \u001b[38;5;241m=\u001b[39m \u001b[38;5;124m'\u001b[39m\u001b[38;5;124msk-proj-3iMTn4F1fOQN4pzTciOzT3BlbkFJCtxkPt3PGlDWOb5w43Ca\u001b[39m\u001b[38;5;124m'\u001b[39m\n\u001b[0;32m      7\u001b[0m \u001b[38;5;66;03m#Client()\u001b[39;00m\n\u001b[1;32m----> 8\u001b[0m models \u001b[38;5;241m=\u001b[39m client\u001b[38;5;241m.\u001b[39mmodels\u001b[38;5;241m.\u001b[39mlist()\n\u001b[0;32m     10\u001b[0m \u001b[38;5;28mprint\u001b[39m(models)\n",
      "\u001b[1;31mNameError\u001b[0m: name 'client' is not defined"
     ]
    }
   ],
   "source": [
    "#engines = openai.Engine.list()\n",
    "from openai import OpenAI\n",
    "import os\n",
    "\n",
    "\n",
    "os.environ['OPENAI_API_KEY'] = 'YOUR_API_KEY'\n",
    "Client()\n",
    "models = client.models.list()\n",
    "\n",
    "print(models)"
   ]
  },
  {
   "cell_type": "code",
   "execution_count": 14,
   "id": "0f9964e5-74ee-4668-8295-91bd4b9120b2",
   "metadata": {},
   "outputs": [
    {
     "name": "stdout",
     "output_type": "stream",
     "text": [
      "These are the packet summaries:\n",
      "130.231.202.234 â†’ 130.231.240.70 DNS 100 Standard query 0xf47c A seed-mix-image.spotifycdn.com OPT\n",
      "130.231.240.70 â†’ 130.231.202.234 DNS 137 Standard query response 0x6b25 No such name A usage.fdown.net SOA brad.ns.cloudflare.com\n",
      "208.67.222.222 â†’ 130.231.202.234 DNS 103 Standard query response 0x1287 A myip.opendns.com A 130.231.202.234 OPT\n",
      "130.231.240.70 â†’ 130.231.202.234 DNS 138 Standard query response 0xc21d No such name A sstats.fdown.net SOA brad.ns.cloudflare.com\n",
      "130.231.202.234 â†’ 130.231.240.70 DNS 84 Standard query 0x25a9 A www.amazon.de OPT\n",
      "130.231.202.234 â†’ 130.231.240.70 DNS 97 Standard query 0x1043 A encrypted-tbn0.gstatic.com OPT\n",
      "130.231.202.234 â†’ 130.231.240.70 DNS 84 Standard query 0xedfe A aan.amazon.de OPT\n",
      "130.231.202.234 â†’ 130.231.240.70 DNS 100 Standard query 0xcf08 A connectivity-check.ubuntu.com OPT\n",
      "130.231.202.234 â†’ 130.231.240.70 DNS 83 Standard query 0x44f4 A usage.fdown.net.oulu.fi\n",
      "130.231.240.70 â†’ 130.231.202.234 DNS 148 Standard query response 0xe044 No such name A usage.fdown.net SOA brad.ns.cloudflare.com OPT\n",
      "\n",
      "Generate python code for creating these packets with Scapy framework and put them all in a list named pkt_list. (Specify both src and dst fields when creating packets.)\n"
     ]
    }
   ],
   "source": [
    "responses = []\n",
    "for i in range(request_num):\n",
    "    summaries = random.choices(packets_summary,k=packets_per_request)\n",
    "    query = \"These are the packet summaries:\\n\"\n",
    "    for summary in summaries:\n",
    "        query += summary + \"\\n\"\n",
    "    \n",
    "    query += \"\\nGenerate python code for creating these packets with Scapy framework and put them all in a list named pkt_list. (Specify both src and dst fields when creating packets.)\"\n",
    "    \n",
    "    print(query)\n",
    "    #break"
   ]
  },
  {
   "cell_type": "code",
   "execution_count": 17,
   "id": "4ac41a4c",
   "metadata": {
    "scrolled": false
   },
   "outputs": [
    {
     "name": "stdout",
     "output_type": "stream",
     "text": [
      "Completion(id='cmpl-9sWQz2bjbdarFXsJ0eJ4NFrdy55DE', choices=[CompletionChoice(finish_reason='stop', index=0, logprobs=None, text='\\n\\nfrom scapy.all import *\\n\\n# packet 1\\npkt1 = IP(src=\"130.231.202.234\", dst=\"130.231.240.70\")/DNS(rd=1, qd=DNSQR(qname=\"seed-mix-image.spotifycdn.com\", qtype=\"A\"))/DNSQR(qname=\"OPT\")\\n\\n# packet 2\\npkt2 = IP(src=\"130.231.240.70\", dst=\"130.231.202.234\")/DNS(rd=1, qd=DNSRR(rrname=\"usage.fdown.net\", type=\"SOA\"), ns=DNSRR(rrname=\"brad.ns.cloudflare.com\"))\\n\\n# packet 3\\npkt3 = IP(src=\"208.67.222.222\", dst=\"130.231.202.234\")/DNS(rd=1, an=DNSRR(rrname=\"myip.opendns.com\", type=\"A\", rdata=\"130.231.202.234\"), ns=DNSRR(rrname=\"130.231.202.234\"), qd=DNSQR(qname=\"myip.opendns.com\", qtype=\"A\"))/DNSRR(rrname=\"OPT\")\\n\\n# packet 4\\npkt4 = IP(src=\"130.231.240.70\", dst=\"130.231.202.234\")/DNS(rd=1, qd=DNSRR(rrname=\"sstats.fdown.net\", type=\"SOA\"), ns=DNSRR(rrname=\"brad.ns.cloudflare.com\"))\\n\\n# packet 5\\npkt5 = IP(src=\"130.231.202.234\", dst=\"130.231.240.70\")/DNS(rd=1, qd=DNSQR(qname=\"www.amazon.de\", qtype=\"A\"))/DNSQR(qname=\"OPT\")\\n\\n# packet 6\\npkt6 = IP(src=\"130.231.202.234\", dst=\"130.231.240.70\")/DNS(rd=1, qd=DNSQR(qname=\"encrypted-tbn0.gstatic.com\", qtype=\"A\"))/DNSQR(qname=\"OPT\")\\n\\n# packet 7\\npkt7 = IP(src=\"130.231.202.234\", dst=\"130.231.240.70\")/DNS(rd=1, qd=DNSQR(qname=\"aan.amazon.de\", qtype=\"A\"))/DNSQR(qname=\"OPT\")\\n\\n# packet 8\\npkt8 = IP(src=\"130.231.202.234\", dst=\"130.231.240.70\")/DNS(rd=1, qd=DNSQR(qname=\"connectivity-check.ubuntu.com\", qtype=\"A\"))/DNSQR(qname=\"OPT\")\\n\\n# packet 9\\npkt9 = IP(src=\"130.231.202.234\", dst=\"130.231.240.70\")/DNS(rd=1, qd=DNSQR(qname=\"usage.fdown.net.oulu.fi\", qtype=\"A\"))\\n\\n# packet 10\\npkt10 = IP(src=\"130.231.240.70\", dst=\"130.231.202.234\")/DNS(rd=1, qd=DNSRR(rrname=\"usage.fdown.net\", type=\"SOA\"), ns=DNSRR(rrname=\"brad.ns.cloudflare.com\"))\\n\\n# create list of packets\\npkt_list = [pkt1, pkt2, pkt3, pkt4, pkt5, pkt6, pkt7, pkt8, pkt9, pkt10]')], created=1722781417, model='gpt-3.5-turbo-instruct', object='text_completion', system_fingerprint=None, usage=CompletionUsage(completion_tokens=718, prompt_tokens=439, total_tokens=1157))\n"
     ]
    }
   ],
   "source": [
    "    client = OpenAI(organization='YOUR_ORG')\n",
    "    os.environ['OPENAI_API_KEY'] = 'YOUR_API_KEY'\n",
    "    completion = client.completions.create(model=\"gpt-3.5-turbo-instruct\", prompt=query, max_tokens=2600)\n",
    "    print(completion)\n",
    "    "
   ]
  },
  {
   "cell_type": "code",
   "execution_count": 18,
   "id": "5598da7c-1d8f-448d-8b3c-491ea272292d",
   "metadata": {
    "scrolled": true,
    "tags": []
   },
   "outputs": [
    {
     "name": "stdout",
     "output_type": "stream",
     "text": [
      "\n",
      "\n",
      "from scapy.all import *\n",
      "\n",
      "# packet 1\n",
      "pkt1 = IP(src=\"130.231.202.234\", dst=\"130.231.240.70\")/DNS(rd=1, qd=DNSQR(qname=\"seed-mix-image.spotifycdn.com\", qtype=\"A\"))/DNSQR(qname=\"OPT\")\n",
      "\n",
      "# packet 2\n",
      "pkt2 = IP(src=\"130.231.240.70\", dst=\"130.231.202.234\")/DNS(rd=1, qd=DNSRR(rrname=\"usage.fdown.net\", type=\"SOA\"), ns=DNSRR(rrname=\"brad.ns.cloudflare.com\"))\n",
      "\n",
      "# packet 3\n",
      "pkt3 = IP(src=\"208.67.222.222\", dst=\"130.231.202.234\")/DNS(rd=1, an=DNSRR(rrname=\"myip.opendns.com\", type=\"A\", rdata=\"130.231.202.234\"), ns=DNSRR(rrname=\"130.231.202.234\"), qd=DNSQR(qname=\"myip.opendns.com\", qtype=\"A\"))/DNSRR(rrname=\"OPT\")\n",
      "\n",
      "# packet 4\n",
      "pkt4 = IP(src=\"130.231.240.70\", dst=\"130.231.202.234\")/DNS(rd=1, qd=DNSRR(rrname=\"sstats.fdown.net\", type=\"SOA\"), ns=DNSRR(rrname=\"brad.ns.cloudflare.com\"))\n",
      "\n",
      "# packet 5\n",
      "pkt5 = IP(src=\"130.231.202.234\", dst=\"130.231.240.70\")/DNS(rd=1, qd=DNSQR(qname=\"www.amazon.de\", qtype=\"A\"))/DNSQR(qname=\"OPT\")\n",
      "\n",
      "# packet 6\n",
      "pkt6 = IP(src=\"130.231.202.234\", dst=\"130.231.240.70\")/DNS(rd=1, qd=DNSQR(qname=\"encrypted-tbn0.gstatic.com\", qtype=\"A\"))/DNSQR(qname=\"OPT\")\n",
      "\n",
      "# packet 7\n",
      "pkt7 = IP(src=\"130.231.202.234\", dst=\"130.231.240.70\")/DNS(rd=1, qd=DNSQR(qname=\"aan.amazon.de\", qtype=\"A\"))/DNSQR(qname=\"OPT\")\n",
      "\n",
      "# packet 8\n",
      "pkt8 = IP(src=\"130.231.202.234\", dst=\"130.231.240.70\")/DNS(rd=1, qd=DNSQR(qname=\"connectivity-check.ubuntu.com\", qtype=\"A\"))/DNSQR(qname=\"OPT\")\n",
      "\n",
      "# packet 9\n",
      "pkt9 = IP(src=\"130.231.202.234\", dst=\"130.231.240.70\")/DNS(rd=1, qd=DNSQR(qname=\"usage.fdown.net.oulu.fi\", qtype=\"A\"))\n",
      "\n",
      "# packet 10\n",
      "pkt10 = IP(src=\"130.231.240.70\", dst=\"130.231.202.234\")/DNS(rd=1, qd=DNSRR(rrname=\"usage.fdown.net\", type=\"SOA\"), ns=DNSRR(rrname=\"brad.ns.cloudflare.com\"))\n",
      "\n",
      "# create list of packets\n",
      "pkt_list = [pkt1, pkt2, pkt3, pkt4, pkt5, pkt6, pkt7, pkt8, pkt9, pkt10]\n"
     ]
    }
   ],
   "source": [
    "print(completion.choices[0].text) "
   ]
  },
  {
   "cell_type": "code",
   "execution_count": 19,
   "id": "bd8bb17f-6a7b-4520-90b2-9d3a55737eac",
   "metadata": {},
   "outputs": [],
   "source": [
    "exec(completion.choices[0].text)"
   ]
  },
  {
   "cell_type": "code",
   "execution_count": 20,
   "id": "824e7b61-35c8-4cb0-8d3f-34adbf1d89f2",
   "metadata": {},
   "outputs": [
    {
     "data": {
      "text/plain": [
       "[<IP  src=130.231.202.234 dst=130.231.240.70 |<DNS  rd=1 qd=<DNSQR  qname='seed-mix-image.spotifycdn.com.' qtype=A |> |<DNSQR  qname='OPT.' |>>>,\n",
       " <IP  src=130.231.240.70 dst=130.231.202.234 |<DNS  rd=1 qd=<DNSRR  rrname='usage.fdown.net.' type=SOA |> ns=<DNSRR  rrname='brad.ns.cloudflare.com.' |> |>>,\n",
       " <IP  src=208.67.222.222 dst=130.231.202.234 |<DNS  rd=1 qd=<DNSQR  qname='myip.opendns.com.' qtype=A |> an=<DNSRR  rrname='myip.opendns.com.' type=A rdata=130.231.202.234 |> ns=<DNSRR  rrname='130.231.202.234.' |> |<DNSRR  rrname='OPT.' |>>>,\n",
       " <IP  src=130.231.240.70 dst=130.231.202.234 |<DNS  rd=1 qd=<DNSRR  rrname='sstats.fdown.net.' type=SOA |> ns=<DNSRR  rrname='brad.ns.cloudflare.com.' |> |>>,\n",
       " <IP  src=130.231.202.234 dst=130.231.240.70 |<DNS  rd=1 qd=<DNSQR  qname='www.amazon.de.' qtype=A |> |<DNSQR  qname='OPT.' |>>>,\n",
       " <IP  src=130.231.202.234 dst=130.231.240.70 |<DNS  rd=1 qd=<DNSQR  qname='encrypted-tbn0.gstatic.com.' qtype=A |> |<DNSQR  qname='OPT.' |>>>,\n",
       " <IP  src=130.231.202.234 dst=130.231.240.70 |<DNS  rd=1 qd=<DNSQR  qname='aan.amazon.de.' qtype=A |> |<DNSQR  qname='OPT.' |>>>,\n",
       " <IP  src=130.231.202.234 dst=130.231.240.70 |<DNS  rd=1 qd=<DNSQR  qname='connectivity-check.ubuntu.com.' qtype=A |> |<DNSQR  qname='OPT.' |>>>,\n",
       " <IP  src=130.231.202.234 dst=130.231.240.70 |<DNS  rd=1 qd=<DNSQR  qname='usage.fdown.net.oulu.fi.' qtype=A |> |>>,\n",
       " <IP  src=130.231.240.70 dst=130.231.202.234 |<DNS  rd=1 qd=<DNSRR  rrname='usage.fdown.net.' type=SOA |> ns=<DNSRR  rrname='brad.ns.cloudflare.com.' |> |>>]"
      ]
     },
     "execution_count": 20,
     "metadata": {},
     "output_type": "execute_result"
    }
   ],
   "source": [
    "pkt_list"
   ]
  },
  {
   "cell_type": "code",
   "execution_count": 21,
   "id": "28a07f8f-1ee7-4ea0-9fb1-88c28bdb8c8f",
   "metadata": {},
   "outputs": [],
   "source": [
    "with open(\"generated_icmp_commands.pcap\", \"wb\") as f:\n",
    "    wrpcap(f, pkt_list) \n",
    "    \n",
    "#why is he writing the DNS generated packet into the icmp pcap??"
   ]
  },
  {
   "cell_type": "code",
   "execution_count": 22,
   "id": "a8006891-aa4c-4dbd-8296-a71ba49f4ed6",
   "metadata": {},
   "outputs": [
    {
     "ename": "SyntaxError",
     "evalue": "incomplete input (3313705309.py, line 3)",
     "output_type": "error",
     "traceback": [
      "\u001b[1;36m  Cell \u001b[1;32mIn[22], line 3\u001b[1;36m\u001b[0m\n\u001b[1;33m    # what \"pkt\" is used for??\u001b[0m\n\u001b[1;37m                                                                                       ^\u001b[0m\n\u001b[1;31mSyntaxError\u001b[0m\u001b[1;31m:\u001b[0m incomplete input\n"
     ]
    }
   ],
   "source": [
    "pkt = IP(src=\"208.67.222.222\", dst=\"130.231.202.234\")/DNS(id=0x1287, qr=1, qd=scapy.DNSQR(qname=\"myip.opendns.com\"), an=DNSRR(rrname=\"myip.opendns.com\", type=\"A\", rdata=\"130.231.202.234\")/DNSOPT(options=[scapy.DNSOPTRR()])\n",
    "                                                          \n",
    "# what \"pkt\" is used for??                                                         "
   ]
  },
  {
   "cell_type": "code",
   "execution_count": 23,
   "id": "21a0bc16-9c1d-43f2-8380-23060cb8b6c9",
   "metadata": {},
   "outputs": [],
   "source": [
    "#i didnt find anything that compared the syntatic and authentic DNS queries at all on this code\n",
    "# syntatic = pkt_list\n"
   ]
  },
  {
   "cell_type": "code",
   "execution_count": null,
   "id": "7160e1c6",
   "metadata": {},
   "outputs": [],
   "source": []
  }
 ],
 "metadata": {
  "kernelspec": {
   "display_name": "Python 3 (ipykernel)",
   "language": "python",
   "name": "python3"
  },
  "language_info": {
   "codemirror_mode": {
    "name": "ipython",
    "version": 3
   },
   "file_extension": ".py",
   "mimetype": "text/x-python",
   "name": "python",
   "nbconvert_exporter": "python",
   "pygments_lexer": "ipython3",
   "version": "3.11.5"
  }
 },
 "nbformat": 4,
 "nbformat_minor": 5
}
