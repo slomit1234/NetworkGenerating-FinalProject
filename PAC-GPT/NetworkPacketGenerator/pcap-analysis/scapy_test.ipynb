{
 "cells": [
  {
   "cell_type": "code",
   "execution_count": 10,
   "id": "fe5816ec-f2c7-4671-bf93-edd03df3bd35",
   "metadata": {},
   "outputs": [],
   "source": [
    "from scapy.all import *\n",
    "import numpy as np"
   ]
  },
  {
   "cell_type": "code",
   "execution_count": 11,
   "id": "fd70ace9-9598-4b50-bca9-f7c7bf12094e",
   "metadata": {},
   "outputs": [],
   "source": [
    "for (pkt_data, pkt_metadata,) in RawPcapNgReader(\"data/encoder/pcap/custom_pings.pcapng\"):\n",
    "    ether_pkt = Ether(pkt_data)\n",
    "    ip_pkt = ether_pkt[IP]\n",
    "    s = chexdump(ip_pkt, dump=True).split(\",\")\n",
    "    s = [t.strip() for t in s]\n",
    "    s = [int(t, 16) for t in s]\n",
    "    img_size = (32, 32)\n",
    "    img = np.pad(\n",
    "        s, (0, img_size[0] * img_size[1] - len(s)),\n",
    "        \"constant\", constant_values=(0)).reshape(img_size)\n",
    "    break"
   ]
  },
  {
   "cell_type": "code",
   "execution_count": 20,
   "id": "9225d4ac-8f27-4d6d-8eef-97880b66c7bc",
   "metadata": {},
   "outputs": [
    {
     "data": {
      "text/plain": [
       "list"
      ]
     },
     "execution_count": 20,
     "metadata": {},
     "output_type": "execute_result"
    }
   ],
   "source": [
    "type(list(img.flatten()[:84]))"
   ]
  },
  {
   "cell_type": "code",
   "execution_count": 21,
   "id": "3c88a865-feb2-4f61-bd29-9de3d24587a8",
   "metadata": {},
   "outputs": [
    {
     "data": {
      "text/plain": [
       "b'E\\x00\\x00T\\x95K@\\x00@\\x01G|\\x82\\xe7\\xca\\xea\\x08\\x08\\x08\\x08\\x08\\x00\\x0b\\x93\\x00\\x02\\x00\\x01\\xb5H\\x87c\\x00\\x00\\x00\\x00\\xee\\xea\\x02\\x00\\x00\\x00\\x00\\x00\\x10\\x11\\x12\\x13\\x14\\x15\\x16\\x17\\x18\\x19\\x1a\\x1b\\x1c\\x1d\\x1e\\x1f !\"#$%&\\'()*+,-./01234567'"
      ]
     },
     "execution_count": 21,
     "metadata": {},
     "output_type": "execute_result"
    }
   ],
   "source": [
    "bytes(list(img.flatten()[:84]))"
   ]
  },
  {
   "cell_type": "code",
   "execution_count": 8,
   "id": "0b63e874-2800-425d-a5a0-b0db8f40e44e",
   "metadata": {},
   "outputs": [
    {
     "name": "stdout",
     "output_type": "stream",
     "text": [
      "###[ IP ]### \n",
      "  version   = 4\n",
      "  ihl       = 5\n",
      "  tos       = 0x0\n",
      "  len       = 84\n",
      "  id        = 38219\n",
      "  flags     = DF\n",
      "  frag      = 0\n",
      "  ttl       = 64\n",
      "  proto     = icmp\n",
      "  chksum    = 0x477c\n",
      "  src       = 130.231.202.234\n",
      "  dst       = 8.8.8.8\n",
      "  \\options   \\\n",
      "###[ ICMP ]### \n",
      "     type      = echo-request\n",
      "     code      = 0\n",
      "     chksum    = 0xb93\n",
      "     id        = 0x2\n",
      "     seq       = 0x1\n",
      "     unused    = ''\n",
      "###[ Raw ]### \n",
      "        load      = '\\\\xb5H\\\\x87c\\x00\\x00\\x00\\x00\\\\xee\\\\xea\\x02\\x00\\x00\\x00\\x00\\x00\\x10\\x11\\x12\\x13\\x14\\x15\\x16\\x17\\x18\\x19\\x1a\\x1b\\x1c\\x1d\\x1e\\x1f !\"#$%&\\'()*+,-./01234567'\n",
      "\n"
     ]
    }
   ],
   "source": [
    "IP(bytes(s)).show()"
   ]
  },
  {
   "cell_type": "code",
   "execution_count": null,
   "id": "e03b99ed-a537-43ca-9fff-1e22c1632a2d",
   "metadata": {},
   "outputs": [],
   "source": []
  }
 ],
 "metadata": {
  "kernelspec": {
   "display_name": "Python 3 (ipykernel)",
   "language": "python",
   "name": "python3"
  },
  "language_info": {
   "codemirror_mode": {
    "name": "ipython",
    "version": 3
   },
   "file_extension": ".py",
   "mimetype": "text/x-python",
   "name": "python",
   "nbconvert_exporter": "python",
   "pygments_lexer": "ipython3",
   "version": "3.10.6"
  }
 },
 "nbformat": 4,
 "nbformat_minor": 5
}
