{
 "cells": [
  {
   "cell_type": "code",
   "execution_count": 1,
   "id": "20548fd2-41ac-45b3-9e0e-dd78510a7e21",
   "metadata": {},
   "outputs": [],
   "source": [
    "from scapy.utils import RawPcapReader\n",
    "from scapy.layers.l2 import Ether\n",
    "from scapy.layers.inet import IP, TCP\n"
   ]
  },
  {
   "cell_type": "code",
   "execution_count": 2,
   "id": "baf35fae-4021-4152-bd37-775b4cedb704",
   "metadata": {},
   "outputs": [],
   "source": [
    "def process_pcap(file_name):\n",
    "    print('Opening {}...'.format(file_name))\n",
    "\n",
    "    count = 0\n",
    "    interesting_packet_count = 0\n",
    "\n",
    "    interesting_packets = []\n",
    "    for (pkt_data, pkt_metadata,) in RawPcapReader(file_name):\n",
    "        count += 1\n",
    "\n",
    "        ether_pkt = Ether(pkt_data)\n",
    "        if 'type' not in ether_pkt.fields:\n",
    "            # LLC frames will have 'len' instead of 'type'.\n",
    "            # We disregard those\n",
    "            continue\n",
    "\n",
    "        if ether_pkt.type != 0x0800:\n",
    "            # disregard non-IPv4 packets\n",
    "            continue\n",
    "        ip_pkt = ether_pkt[IP]\n",
    "\n",
    "        interesting_packet_count += 1\n",
    "        interesting_packets.append(ether_pkt)\n",
    "\n",
    "    print('{} contains {} packets ({} interesting)'.\n",
    "          format(file_name, count, interesting_packet_count))\n",
    "\n",
    "    return interesting_packets\n"
   ]
  },
  {
   "cell_type": "code",
   "execution_count": 3,
   "id": "d3ba8bd7-f889-464c-8c09-729a447eb703",
   "metadata": {},
   "outputs": [
    {
     "name": "stdout",
     "output_type": "stream",
     "text": [
      "Opening ./data/encoder/pcap/custom_pings3.pcapng...\n",
      "./data/encoder/pcap/custom_pings3.pcapng contains 2261 packets (2261 interesting)\n"
     ]
    }
   ],
   "source": [
    "packets = process_pcap(\"./data/encoder/pcap/custom_pings3.pcapng\")"
   ]
  },
  {
   "cell_type": "code",
   "execution_count": 5,
   "id": "39add6f4-6afa-4ad8-9a18-ad218fff7816",
   "metadata": {},
   "outputs": [
    {
     "name": "stdout",
     "output_type": "stream",
     "text": [
      "###[ Ethernet ]### \n",
      "  dst       = 70:db:98:81:93:40\n",
      "  src       = 84:a9:38:6a:7f:0d\n",
      "  type      = IPv4\n",
      "###[ IP ]### \n",
      "     version   = 4\n",
      "     ihl       = 5\n",
      "     tos       = 0x0\n",
      "     len       = 84\n",
      "     id        = 38219\n",
      "     flags     = DF\n",
      "     frag      = 0\n",
      "     ttl       = 64\n",
      "     proto     = icmp\n",
      "     chksum    = 0x477c\n",
      "     src       = 130.231.202.234\n",
      "     dst       = 8.8.8.8\n",
      "     \\options   \\\n",
      "###[ ICMP ]### \n",
      "        type      = echo-request\n",
      "        code      = 0\n",
      "        chksum    = 0xb93\n",
      "        id        = 0x2\n",
      "        seq       = 0x1\n",
      "        unused    = ''\n",
      "###[ Raw ]### \n",
      "           load      = '\\\\xb5H\\\\x87c\\x00\\x00\\x00\\x00\\\\xee\\\\xea\\x02\\x00\\x00\\x00\\x00\\x00\\x10\\x11\\x12\\x13\\x14\\x15\\x16\\x17\\x18\\x19\\x1a\\x1b\\x1c\\x1d\\x1e\\x1f !\"#$%&\\'()*+,-./01234567'\n",
      "\n"
     ]
    }
   ],
   "source": [
    "packets[0].show()"
   ]
  },
  {
   "cell_type": "code",
   "execution_count": null,
   "id": "4de9b1ac-caea-434e-9ac0-d5ce062774b1",
   "metadata": {},
   "outputs": [],
   "source": []
  }
 ],
 "metadata": {
  "kernelspec": {
   "display_name": "Python 3 (ipykernel)",
   "language": "python",
   "name": "python3"
  },
  "language_info": {
   "codemirror_mode": {
    "name": "ipython",
    "version": 3
   },
   "file_extension": ".py",
   "mimetype": "text/x-python",
   "name": "python",
   "nbconvert_exporter": "python",
   "pygments_lexer": "ipython3",
   "version": "3.10.6"
  }
 },
 "nbformat": 4,
 "nbformat_minor": 5
}
