{
 "cells": [
  {
   "cell_type": "markdown",
   "id": "f7480c11",
   "metadata": {},
   "source": [
    "# # Gen_Packet_Summery\n",
    "\n",
    "this program purpose:\n",
    "\n",
    "1. send ping instruction to the model. in this case - the authors choose to create the instructions with autentic ping data and a text representation that will explain it to the model (more of an example). than the pcap is being handeled (proccessed and deletion of some fields). than present the output and show the diffrent fields of the packets.\n",
    "\n",
    "2. datasets/external file:\n",
    "    generated_icmp_commands.pcap -> write the syntetic DNS traffic into a pcap\n",
    "    \n",
    "    custom_pings3.pcapng -> authentic ping traffic -> proccessed and sent to the model as part of the instructions.\n",
    "    \n",
    "    ping_summaries.txt -> instruction of ping that are sent to the model.\n",
    "    \n",
    "3. our work\n",
    "    *Update the code to the newer openai api version (=>1.1.0)\n",
    "   *Changed the model to  gpt-3.5-turbo-instruct (babbage, davinci legacy)\n",
    "\n",
    "4. Questions\n",
    "   Why in Ping and not with DNS??\n",
    "   What did they did exactly when proccessed the model output again, and why?\n",
    "   when we did a test run our results were diffrent (10 ->1 - this may connect to the new output format of the api - need to check)"
   ]
  },
  {
   "cell_type": "code",
   "execution_count": 1,
   "id": "d8ab9384-bfd6-4e54-be3a-3bbb87fc4360",
   "metadata": {},
   "outputs": [],
   "source": [
    "import random\n",
    "import re\n",
    "import os\n",
    "\n",
    "from openai import OpenAI\n",
    "\n",
    "from scapy.all import Raw\n",
    "from scapy.utils import RawPcapReader, wrpcap\n",
    "\n",
    "from scapy.layers.l2 import Ether\n",
    "from scapy.layers.inet import IP, TCP, ICMP"
   ]
  },
  {
   "cell_type": "code",
   "execution_count": 2,
   "id": "13c8bff7-218b-4916-8e91-663ddedddf8e",
   "metadata": {},
   "outputs": [],
   "source": [
    "sample_gen_num = 100"
   ]
  },
  {
   "cell_type": "code",
   "execution_count": 3,
   "id": "9a634bf4-047e-4238-970e-ef087ad3bec5",
   "metadata": {},
   "outputs": [],
   "source": [
    "def process_pcap(file_name):\n",
    "    print('Opening {}...'.format(file_name))\n",
    "\n",
    "    count = 0\n",
    "    interesting_packet_count = 0\n",
    "\n",
    "    interesting_packets = []\n",
    "    for (pkt_data, pkt_metadata,) in RawPcapReader(file_name):\n",
    "        count += 1\n",
    "\n",
    "        ether_pkt = Ether(pkt_data)\n",
    "        if 'type' not in ether_pkt.fields:\n",
    "            # LLC frames will have 'len' instead of 'type'.\n",
    "            # We disregard those\n",
    "            continue\n",
    "\n",
    "        if ether_pkt.type != 0x0800:\n",
    "            # disregard non-IPv4 packets\n",
    "            continue\n",
    "        ip_pkt = ether_pkt[IP]\n",
    "        if ip_pkt.proto != 1:\n",
    "            # Ignore non-TCP packet\n",
    "            continue\n",
    "        interesting_packet_count += 1\n",
    "        interesting_packets.append(ether_pkt)\n",
    "\n",
    "    print('{} contains {} packets ({} interesting)'.\n",
    "          format(file_name, count, interesting_packet_count))\n",
    "\n",
    "    return interesting_packets\n"
   ]
  },
  {
   "cell_type": "code",
   "execution_count": 4,
   "id": "804370db-2a5d-40ad-8a66-cb8edf712c06",
   "metadata": {},
   "outputs": [
    {
     "name": "stdout",
     "output_type": "stream",
     "text": [
      "Opening custom_pings3.pcapng...\n",
      "custom_pings3.pcapng contains 2261 packets (2261 interesting)\n"
     ]
    }
   ],
   "source": [
    "packets_scapy = process_pcap(\"custom_pings3.pcapng\")"
   ]
  },
  {
   "cell_type": "code",
   "execution_count": 5,
   "id": "b71fb8d5-6853-4f25-8aee-3d1ed9834482",
   "metadata": {},
   "outputs": [
    {
     "data": {
      "text/plain": [
       "2261"
      ]
     },
     "execution_count": 5,
     "metadata": {},
     "output_type": "execute_result"
    }
   ],
   "source": [
    "len(packets_scapy)"
   ]
  },
  {
   "cell_type": "code",
   "execution_count": 6,
   "id": "46f766e4-a85a-44f8-8d70-d10e4e3794bc",
   "metadata": {},
   "outputs": [],
   "source": [
    "with open(\"ping_summaries.txt\",\"r\") as f:\n",
    "    packets_summary = f.read().splitlines()"
   ]
  },
  {
   "cell_type": "code",
   "execution_count": 7,
   "id": "d69ba537-d564-4e77-9ff0-371700f15130",
   "metadata": {},
   "outputs": [
    {
     "data": {
      "text/plain": [
       "2261"
      ]
     },
     "execution_count": 7,
     "metadata": {},
     "output_type": "execute_result"
    }
   ],
   "source": [
    "len(packets_summary)"
   ]
  },
  {
   "cell_type": "code",
   "execution_count": 8,
   "id": "bae40450-1cda-4cc2-8193-2a91b96509d2",
   "metadata": {},
   "outputs": [],
   "source": [
    "packets = tuple(zip(packets_summary,packets_scapy))"
   ]
  },
  {
   "cell_type": "code",
   "execution_count": 9,
   "id": "78f7dd84-bc5e-430a-b760-bb0cda6bb733",
   "metadata": {
    "scrolled": true
   },
   "outputs": [
    {
     "name": "stdout",
     "output_type": "stream",
     "text": [
      "SyncPage[Model](data=[Model(id='gpt-3.5-turbo', created=1677610602, object='model', owned_by='openai'), Model(id='gpt-3.5-turbo-16k', created=1683758102, object='model', owned_by='openai-internal'), Model(id='gpt-4-turbo-2024-04-09', created=1712601677, object='model', owned_by='system'), Model(id='gpt-3.5-turbo-0125', created=1706048358, object='model', owned_by='system'), Model(id='gpt-3.5-turbo-1106', created=1698959748, object='model', owned_by='system'), Model(id='gpt-3.5-turbo-instruct-0914', created=1694122472, object='model', owned_by='system'), Model(id='gpt-3.5-turbo-instruct', created=1692901427, object='model', owned_by='system'), Model(id='gpt-4-0613', created=1686588896, object='model', owned_by='openai'), Model(id='gpt-4', created=1687882411, object='model', owned_by='openai')], object='list')\n"
     ]
    }
   ],
   "source": [
    "os.environ['OPENAI_API_KEY'] = "#FILL_YOUR_KEY#",
    "client = OpenAI()\n",
    "models = client.models.list()\n",
    "\n",
    "print(models)"
   ]
  },
  {
   "cell_type": "code",
   "execution_count": 10,
   "id": "0f9964e5-74ee-4668-8295-91bd4b9120b2",
   "metadata": {},
   "outputs": [
    {
     "name": "stdout",
     "output_type": "stream",
     "text": [
      "This is the packet summary:\n",
      "4.2.2.4 â†’ 130.231.202.234 ICMP 98 Echo (ping) reply id=0x0003, seq=174\n",
      "\n",
      "This is the packet details:\n",
      "###[ IP ]### \n",
      "  version   = 4\n",
      "  ihl       = 5\n",
      "  tos       = 0x0\n",
      "  len       = 84\n",
      "  id        = 15039\n",
      "  flags     = \n",
      "  frag      = 0\n",
      "  ttl       = 49\n",
      "  proto     = icmp\n",
      "  chksum    = None\n",
      "  src       = 4.2.2.4\n",
      "  dst       = 130.231.202.234\n",
      "  \\options   \\\n",
      "###[ ICMP ]### \n",
      "     type      = echo-reply\n",
      "     code      = 0\n",
      "     chksum    = None\n",
      "     id        = 0x3\n",
      "     seq       = 0xae\n",
      "     unused    = ''\n",
      "\n",
      "\n",
      "This is another packet summary:\n",
      "130.231.202.234 â†’ 76.76.2.0 ICMP 98 Echo (ping) request id=0x0005, seq=255\n",
      "\n",
      "Generate the packet details.\n"
     ]
    }
   ],
   "source": [
    "responses = []\n",
    "for i in range(sample_gen_num):\n",
    "    summary,packet = random.choice(packets)\n",
    "    packet = packet[IP]\n",
    "    try:\n",
    "        del packet[Raw]\n",
    "    except IndexError:\n",
    "        packet.show()\n",
    "    del packet.chksum\n",
    "    del packet[ICMP].chksum\n",
    "    query = \"This is the packet summary:\\n\"\n",
    "    query += summary + \"\\n\\n\"\n",
    "    query += \"This is the packet details:\\n\"\n",
    "    query += str(packet.show(dump=True))\n",
    "    \n",
    "    summary,_ = random.choice(packets)\n",
    "    query += \"\\n\\nThis is another packet summary:\\n\"\n",
    "    query += summary + \"\\n\\n\"\n",
    "    query += \"Generate the packet details.\"\n",
    "    \n",
    "    print(query)\n",
    "    break\n"
   ]
  },
  {
   "cell_type": "code",
   "execution_count": 11,
   "id": "f13e2e3d",
   "metadata": {},
   "outputs": [
    {
     "name": "stdout",
     "output_type": "stream",
     "text": [
      "Completion(id='cmpl-9sWCPIvC6m2JQfpG818IxgPrWyX6J', choices=[CompletionChoice(finish_reason='stop', index=0, logprobs=None, text=\"\\n###[ IP ]### \\n  version   = 4\\n  ihl       = 5\\n  tos       = 0x0\\n  len       = 84\\n  id        = 0\\n  flags     = \\n  frag      = 0\\n  ttl       = 64\\n  proto     = icmp\\n  chksum    = None\\n  src       = 130.231.202.234\\n  dst       = 76.76.2.0\\n  \\\\options   \\\\\\n###[ ICMP ]### \\n     type      = echo-request\\n     code      = 0\\n     chksum    = None\\n     id        = 0x5\\n     seq       = 0xff\\n     unused    = ''\\n\")], created=1722780513, model='gpt-3.5-turbo-instruct', object='text_completion', system_fingerprint=None, usage=CompletionUsage(completion_tokens=158, prompt_tokens=256, total_tokens=414))\n"
     ]
    }
   ],
   "source": [
    "    #completion = openai.Completion.create(engine=\"text-davinci-003\", prompt=query,max_tokens=3500)\n",
    "    #completion[\"prompt_summary\"] = summary\n",
    "    #responses.append(completion)\n",
    "    \n",
    "    client = OpenAI(organization= "YOUR_ORG")\n",
    "    os.environ['OPENAI_API_KEY'] = "YOUR_API_KEY"\n",
    "    completion = client.completions.create(model=\"gpt-3.5-turbo-instruct\", prompt=query, max_tokens=3500)\n",
    "    print(completion)\n",
    "    "
   ]
  },
  {
   "cell_type": "code",
   "execution_count": 12,
   "id": "d4111b38-e0f0-4367-b969-7b20914346d2",
   "metadata": {},
   "outputs": [
    {
     "name": "stdout",
     "output_type": "stream",
     "text": [
      "1\n"
     ]
    }
   ],
   "source": [
    "responses.append(completion)\n",
    "print(len(responses))"
   ]
  },
  {
   "cell_type": "code",
   "execution_count": 13,
   "id": "d004a45f-5246-4b57-8731-ad5fed659106",
   "metadata": {},
   "outputs": [
    {
     "ename": "AttributeError",
     "evalue": "'Completion' object has no attribute 'prompt_summary'",
     "output_type": "error",
     "traceback": [
      "\u001b[1;31m---------------------------------------------------------------------------\u001b[0m",
      "\u001b[1;31mAttributeError\u001b[0m                            Traceback (most recent call last)",
      "Cell \u001b[1;32mIn[13], line 1\u001b[0m\n\u001b[1;32m----> 1\u001b[0m \u001b[38;5;28mprint\u001b[39m(responses[\u001b[38;5;241m0\u001b[39m]\u001b[38;5;241m.\u001b[39mprompt_summary)\n\u001b[0;32m      2\u001b[0m \u001b[38;5;28mprint\u001b[39m(responses[\u001b[38;5;241m0\u001b[39m]\u001b[38;5;241m.\u001b[39mchoices[\u001b[38;5;241m0\u001b[39m]\u001b[38;5;241m.\u001b[39mtext)\n",
      "\u001b[1;31mAttributeError\u001b[0m: 'Completion' object has no attribute 'prompt_summary'"
     ]
    }
   ],
   "source": [
    "print(responses[0].prompt_summary)\n",
    "print(responses[0].choices[0].text)"
   ]
  },
  {
   "cell_type": "code",
   "execution_count": null,
   "id": "d57986fc",
   "metadata": {},
   "outputs": [],
   "source": [
    "print(summary)"
   ]
  },
  {
   "cell_type": "code",
   "execution_count": null,
   "id": "8998c209",
   "metadata": {},
   "outputs": [],
   "source": [
    "print(responses[0].choices[0].text)"
   ]
  },
  {
   "cell_type": "code",
   "execution_count": 14,
   "id": "ef4e60fb-b65d-48ef-950c-9478ac7f896e",
   "metadata": {},
   "outputs": [],
   "source": [
    "def str_to_packet(s):\n",
    "    packet = IP()\n",
    "    s2i_proto = {v:k for k,v in packet.get_field(\"proto\").i2s.items()}\n",
    "    _,ip_text,payload_text = re.split(\"\\#{3}\\[\\s*\\w*\\s*\\]\\#{3}\",s)\n",
    "    for line in ip_text.splitlines():\n",
    "        if line == \" \" or line == \"  \\\\options   \\\\\":\n",
    "            continue\n",
    "\n",
    "        try: \n",
    "            key,value = line.split(\"=\")\n",
    "        except ValueError:\n",
    "            print(line)\n",
    "            continue\n",
    "        if key.strip() == \"proto\":\n",
    "            packet[IP].proto = s2i_proto[value.strip()]\n",
    "            continue\n",
    "        try:\n",
    "            packet[IP].fields[key.strip()] = int(value.strip(),0)\n",
    "        except:\n",
    "            \n",
    "            packet[IP].fields[key.strip()] = value.strip()\n",
    "    # Handle ICMP Payload \n",
    "    if packet[IP].proto == 1:\n",
    "        packet = packet / ICMP()\n",
    "        type_conversion = {\"echo-reply\" : 0, \"echo-request\":8}\n",
    "        for line in payload_text.splitlines():\n",
    "            if line == \" \" or line == \"  \\\\options   \\\\\":\n",
    "                continue\n",
    "                \n",
    "            try: \n",
    "                key,value = line.split(\"=\")\n",
    "            except ValueError:\n",
    "                print(line)\n",
    "                continue\n",
    "            \n",
    "            try:\n",
    "                packet[ICMP].fields[key.strip()] = int(value.strip(),0)\n",
    "            except:\n",
    "                packet[ICMP].fields[key.strip()] = value.strip()\n",
    "\n",
    "        if packet.unused == \"''\":\n",
    "            packet.unused = b''\n",
    "        packet.type = type_conversion[packet.type]\n",
    "    return packet"
   ]
  },
  {
   "cell_type": "code",
   "execution_count": 15,
   "id": "697b299a-8a3e-4c73-9717-f76a352c12e3",
   "metadata": {},
   "outputs": [
    {
     "name": "stdout",
     "output_type": "stream",
     "text": [
      "###[ IP ]### \n",
      "  version   = 4\n",
      "  ihl       = 5\n",
      "  tos       = 0x0\n",
      "  len       = 84\n",
      "  id        = 0\n",
      "  flags     = \n",
      "  frag      = 0\n",
      "  ttl       = 64\n",
      "  proto     = icmp\n",
      "  chksum    = 0xde8b\n",
      "  src       = 130.231.202.234\n",
      "  dst       = 76.76.2.0\n",
      "  \\options   \\\n",
      "###[ ICMP ]### \n",
      "     type      = echo-request\n",
      "     code      = 0\n",
      "     chksum    = 0xf6fb\n",
      "     id        = 0x5\n",
      "     seq       = 0xff\n",
      "     unused    = ''\n",
      "\n"
     ]
    }
   ],
   "source": [
    "gen_pkts = [str_to_packet(response.choices[0].text) for response in responses]\n",
    "\n",
    "def delete_wrong_fields(pkt):\n",
    "\n",
    "    del pkt[IP].flags\n",
    "    del pkt[IP].chksum\n",
    "    del pkt[ICMP].chksum\n",
    "    \n",
    "    return pkt\n",
    "    \n",
    "gen_pkts = list(map(delete_wrong_fields,gen_pkts))\n",
    "gen_pkts[0].show2()\n",
    "\n",
    "with open(\"generated_icmp.pcap\", \"wb\") as f:\n",
    "    wrpcap(f, gen_pkts)\n"
   ]
  },
  {
   "cell_type": "code",
   "execution_count": 16,
   "id": "dcecce3f-980b-4e50-825d-a62a4738fc6d",
   "metadata": {},
   "outputs": [
    {
     "data": {
      "text/plain": [
       "1"
      ]
     },
     "execution_count": 16,
     "metadata": {},
     "output_type": "execute_result"
    }
   ],
   "source": [
    "len(gen_pkts)"
   ]
  },
  {
   "cell_type": "code",
   "execution_count": 17,
   "id": "fa6f6710-ee69-4d7e-b14b-af58a3c7493c",
   "metadata": {},
   "outputs": [
    {
     "name": "stdout",
     "output_type": "stream",
     "text": [
      "\n",
      "###[ IP ]### \n",
      "  version   = 4\n",
      "  ihl       = 5\n",
      "  tos       = 0x0\n",
      "  len       = 84\n",
      "  id        = 0\n",
      "  flags     = \n",
      "  frag      = 0\n",
      "  ttl       = 64\n",
      "  proto     = icmp\n",
      "  chksum    = None\n",
      "  src       = 130.231.202.234\n",
      "  dst       = 76.76.2.0\n",
      "  \\options   \\\n",
      "###[ ICMP ]### \n",
      "     type      = echo-request\n",
      "     code      = 0\n",
      "     chksum    = None\n",
      "     id        = 0x5\n",
      "     seq       = 0xff\n",
      "     unused    = ''\n",
      "\n"
     ]
    }
   ],
   "source": [
    "print(responses[0].choices[0].text)"
   ]
  },
  {
   "cell_type": "code",
   "execution_count": 18,
   "id": "2db5779f-0828-4cb1-ba8f-e39df0f53a97",
   "metadata": {},
   "outputs": [],
   "source": [
    "summary,packet = random.choice(packets)"
   ]
  },
  {
   "cell_type": "code",
   "execution_count": 19,
   "id": "9df0548d-97a5-486f-88e1-1660c32b6dbf",
   "metadata": {},
   "outputs": [
    {
     "data": {
      "text/plain": [
       "'9.9.9.9 â†’ 130.231.202.234 ICMP 98 Echo (ping) reply id=0x0004, seq=29'"
      ]
     },
     "execution_count": 19,
     "metadata": {},
     "output_type": "execute_result"
    }
   ],
   "source": [
    "summary"
   ]
  },
  {
   "cell_type": "code",
   "execution_count": 20,
   "id": "bc47beb7-4b2d-4511-ab50-ac9fe09a1424",
   "metadata": {},
   "outputs": [
    {
     "name": "stdout",
     "output_type": "stream",
     "text": [
      "###[ Ethernet ]### \n",
      "  dst       = 84:a9:38:6a:7f:0d\n",
      "  src       = 70:db:98:81:93:40\n",
      "  type      = IPv4\n",
      "###[ IP ]### \n",
      "     version   = 4\n",
      "     ihl       = 5\n",
      "     tos       = 0x0\n",
      "     len       = 84\n",
      "     id        = 743\n",
      "     flags     = \n",
      "     frag      = 0\n",
      "     ttl       = 53\n",
      "     proto     = icmp\n",
      "     chksum    = 0x22df\n",
      "     src       = 9.9.9.9\n",
      "     dst       = 130.231.202.234\n",
      "     \\options   \\\n",
      "###[ ICMP ]### \n",
      "        type      = echo-reply\n",
      "        code      = 0\n",
      "        chksum    = 0xc454\n",
      "        id        = 0x4\n",
      "        seq       = 0x1d\n",
      "        unused    = ''\n",
      "###[ Raw ]### \n",
      "           load      = '\\\\xf1H\\\\x87c\\x00\\x00\\x00\\x00\\\\xfd\\n\\x07\\x00\\x00\\x00\\x00\\x00\\x10\\x11\\x12\\x13\\x14\\x15\\x16\\x17\\x18\\x19\\x1a\\x1b\\x1c\\x1d\\x1e\\x1f !\"#$%&\\'()*+,-./01234567'\n",
      "\n"
     ]
    }
   ],
   "source": [
    "packet.show()"
   ]
  },
  {
   "cell_type": "code",
   "execution_count": 21,
   "id": "2aeba976-e474-476b-97b7-38f8ad51ae55",
   "metadata": {},
   "outputs": [
    {
     "data": {
      "text/plain": [
       "True"
      ]
     },
     "execution_count": 21,
     "metadata": {},
     "output_type": "execute_result"
    }
   ],
   "source": [
    "type(gen_pkts[0][ICMP].unused) == type(packet[ICMP].unused)"
   ]
  },
  {
   "cell_type": "code",
   "execution_count": 41,
   "id": "3a285803-0fd9-40c3-a5a4-0eb4d45897e3",
   "metadata": {},
   "outputs": [
    {
     "name": "stdout",
     "output_type": "stream",
     "text": [
      "\n"
     ]
    }
   ],
   "source": [
    "print(gen_pkts[0].flags)"
   ]
  },
  {
   "cell_type": "code",
   "execution_count": 42,
   "id": "0e97102d-ae24-4c9d-bb55-96e796fee8a2",
   "metadata": {},
   "outputs": [
    {
     "data": {
      "text/plain": [
       "<Flag 0 ()>"
      ]
     },
     "execution_count": 42,
     "metadata": {},
     "output_type": "execute_result"
    }
   ],
   "source": [
    "packet[IP].flags"
   ]
  },
  {
   "cell_type": "code",
   "execution_count": 43,
   "id": "fb5c4ec5-795f-45aa-bb63-40e2ae485f3f",
   "metadata": {},
   "outputs": [
    {
     "name": "stdout",
     "output_type": "stream",
     "text": [
      "###[ IP ]### \n",
      "  version   = 4\n",
      "  ihl       = 5\n",
      "  tos       = 0x0\n",
      "  len       = 84\n",
      "  id        = 0\n",
      "  flags     = \n",
      "  frag      = 0\n",
      "  ttl       = 64\n",
      "  proto     = icmp\n",
      "  chksum    = None\n",
      "  src       = 130.231.202.234\n",
      "  dst       = 76.76.2.0\n",
      "  \\options   \\\n",
      "###[ ICMP ]### \n",
      "     type      = echo-request\n",
      "     code      = 0\n",
      "     chksum    = None\n",
      "     id        = 0x5\n",
      "     seq       = 0xff\n",
      "     unused    = ''\n",
      "\n"
     ]
    }
   ],
   "source": [
    "gen_pkts[0].show()"
   ]
  },
  {
   "cell_type": "code",
   "execution_count": 44,
   "id": "710b6ead-4c76-44f9-9a8c-c09f6cb5fad2",
   "metadata": {},
   "outputs": [
    {
     "name": "stdout",
     "output_type": "stream",
     "text": [
      "###[ IP ]### \n",
      "  version   = 4\n",
      "  ihl       = 5\n",
      "  tos       = 0x0\n",
      "  len       = 84\n",
      "  id        = 21822\n",
      "  flags     = DF\n",
      "  frag      = 0\n",
      "  ttl       = 64\n",
      "  proto     = icmp\n",
      "  chksum    = 0x494d\n",
      "  src       = 130.231.202.234\n",
      "  dst       = 76.76.2.0\n",
      "  \\options   \\\n",
      "###[ ICMP ]### \n",
      "     type      = echo-request\n",
      "     code      = 0\n",
      "     chksum    = 0x83ef\n",
      "     id        = 0x5\n",
      "     seq       = 0xa9\n",
      "     unused    = ''\n",
      "###[ Raw ]### \n",
      "        load      = '\\\\x8aI\\\\x87c\\x00\\x00\\x00\\x00\\\\x9e\\\\xe2\\x04\\x00\\x00\\x00\\x00\\x00\\x10\\x11\\x12\\x13\\x14\\x15\\x16\\x17\\x18\\x19\\x1a\\x1b\\x1c\\x1d\\x1e\\x1f !\"#$%&\\'()*+,-./01234567'\n",
      "\n",
      "###[ IP ]### \n",
      "  version   = 4\n",
      "  ihl       = 5\n",
      "  tos       = 0x0\n",
      "  len       = 84\n",
      "  id        = 21822\n",
      "  flags     = DF\n",
      "  frag      = 0\n",
      "  ttl       = 64\n",
      "  proto     = icmp\n",
      "  chksum    = None\n",
      "  src       = 130.231.202.234\n",
      "  dst       = 76.76.2.0\n",
      "  \\options   \\\n",
      "###[ ICMP ]### \n",
      "     type      = echo-request\n",
      "     code      = 0\n",
      "     chksum    = None\n",
      "     id        = 0x5\n",
      "     seq       = 0xa9\n",
      "     unused    = ''\n",
      "\n"
     ]
    }
   ],
   "source": [
    "summary,packet2 = random.choice(packets)\n",
    "packet2[IP].show()\n",
    "packet2[IP].flags = \"DF\"\n",
    "del packet2[Raw]\n",
    "del packet2[IP].chksum\n",
    "del packet2[ICMP].chksum\n",
    "packet2[IP].show()\n"
   ]
  },
  {
   "cell_type": "code",
   "execution_count": 45,
   "id": "9be5ef9e-128c-4365-afbf-42309a3b569a",
   "metadata": {},
   "outputs": [
    {
     "data": {
      "text/plain": [
       "<Flag 2 (DF)>"
      ]
     },
     "execution_count": 45,
     "metadata": {},
     "output_type": "execute_result"
    }
   ],
   "source": [
    "packet2[IP].flags"
   ]
  },
  {
   "cell_type": "code",
   "execution_count": 46,
   "id": "4f168f43-9f3d-4a65-bf09-75095bf503d4",
   "metadata": {},
   "outputs": [],
   "source": [
    "with open(\"generated_icmp.pcap\", \"wb\") as f:\n",
    "    wrpcap(f, packet2)\n"
   ]
  },
  {
   "cell_type": "code",
   "execution_count": null,
   "id": "2239c851-66eb-4d61-904d-7a70fadb3fb3",
   "metadata": {},
   "outputs": [],
   "source": []
  }
 ],
 "metadata": {
  "kernelspec": {
   "display_name": "Python 3 (ipykernel)",
   "language": "python",
   "name": "python3"
  },
  "language_info": {
   "codemirror_mode": {
    "name": "ipython",
    "version": 3
   },
   "file_extension": ".py",
   "mimetype": "text/x-python",
   "name": "python",
   "nbconvert_exporter": "python",
   "pygments_lexer": "ipython3",
   "version": "3.11.5"
  }
 },
 "nbformat": 4,
 "nbformat_minor": 5
}
